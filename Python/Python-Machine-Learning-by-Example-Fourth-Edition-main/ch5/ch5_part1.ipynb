{
 "cells": [
  {
   "cell_type": "markdown",
   "id": "df0758b4",
   "metadata": {},
   "source": [
    "\n",
    "Source codes for Python Machine Learning By Example 4th Edition (Packt Publishing)\n",
    "\n",
    "Chapter 5 Predicting Stock Price with Regression Algorithms\n",
    "\n",
    "Author: Yuxi (Hayden) Liu (yuxi.liu.ece@gmail.com)\n"
   ]
  },
  {
   "cell_type": "markdown",
   "id": "ae09c96b",
   "metadata": {},
   "source": [
    "# Mining stock price data "
   ]
  },
  {
   "cell_type": "markdown",
   "id": "c323b7b9",
   "metadata": {},
   "source": [
    "## Acquiring data and generating features"
   ]
  },
  {
   "cell_type": "code",
   "execution_count": 1,
   "id": "621dcd5d",
   "metadata": {},
   "outputs": [],
   "source": [
    "import pandas as pd"
   ]
  },
  {
   "cell_type": "code",
   "execution_count": 2,
   "id": "5bfc6287",
   "metadata": {},
   "outputs": [
    {
     "data": {
      "text/html": [
       "<div>\n",
       "<style scoped>\n",
       "    .dataframe tbody tr th:only-of-type {\n",
       "        vertical-align: middle;\n",
       "    }\n",
       "\n",
       "    .dataframe tbody tr th {\n",
       "        vertical-align: top;\n",
       "    }\n",
       "\n",
       "    .dataframe thead th {\n",
       "        text-align: right;\n",
       "    }\n",
       "</style>\n",
       "<table border=\"1\" class=\"dataframe\">\n",
       "  <thead>\n",
       "    <tr style=\"text-align: right;\">\n",
       "      <th></th>\n",
       "      <th>Open</th>\n",
       "      <th>High</th>\n",
       "      <th>Low</th>\n",
       "      <th>Close</th>\n",
       "      <th>Adj Close</th>\n",
       "      <th>Volume</th>\n",
       "    </tr>\n",
       "    <tr>\n",
       "      <th>Date</th>\n",
       "      <th></th>\n",
       "      <th></th>\n",
       "      <th></th>\n",
       "      <th></th>\n",
       "      <th></th>\n",
       "      <th></th>\n",
       "    </tr>\n",
       "  </thead>\n",
       "  <tbody>\n",
       "    <tr>\n",
       "      <th>2005-12-01</th>\n",
       "      <td>2244.850098</td>\n",
       "      <td>2269.389893</td>\n",
       "      <td>2244.709961</td>\n",
       "      <td>2267.169922</td>\n",
       "      <td>2267.169922</td>\n",
       "      <td>2010420000</td>\n",
       "    </tr>\n",
       "    <tr>\n",
       "      <th>2005-12-02</th>\n",
       "      <td>2266.169922</td>\n",
       "      <td>2273.610107</td>\n",
       "      <td>2261.129883</td>\n",
       "      <td>2273.370117</td>\n",
       "      <td>2273.370117</td>\n",
       "      <td>1758510000</td>\n",
       "    </tr>\n",
       "    <tr>\n",
       "      <th>2005-12-05</th>\n",
       "      <td>2269.070068</td>\n",
       "      <td>2269.479980</td>\n",
       "      <td>2250.840088</td>\n",
       "      <td>2257.639893</td>\n",
       "      <td>2257.639893</td>\n",
       "      <td>1659920000</td>\n",
       "    </tr>\n",
       "    <tr>\n",
       "      <th>2005-12-06</th>\n",
       "      <td>2267.760010</td>\n",
       "      <td>2278.159912</td>\n",
       "      <td>2259.370117</td>\n",
       "      <td>2260.760010</td>\n",
       "      <td>2260.760010</td>\n",
       "      <td>1788200000</td>\n",
       "    </tr>\n",
       "    <tr>\n",
       "      <th>2005-12-07</th>\n",
       "      <td>2263.290039</td>\n",
       "      <td>2264.909912</td>\n",
       "      <td>2244.620117</td>\n",
       "      <td>2252.010010</td>\n",
       "      <td>2252.010010</td>\n",
       "      <td>1733530000</td>\n",
       "    </tr>\n",
       "    <tr>\n",
       "      <th>2005-12-08</th>\n",
       "      <td>2254.800049</td>\n",
       "      <td>2261.610107</td>\n",
       "      <td>2233.739990</td>\n",
       "      <td>2246.459961</td>\n",
       "      <td>2246.459961</td>\n",
       "      <td>1908360000</td>\n",
       "    </tr>\n",
       "    <tr>\n",
       "      <th>2005-12-09</th>\n",
       "      <td>2247.280029</td>\n",
       "      <td>2258.669922</td>\n",
       "      <td>2241.030029</td>\n",
       "      <td>2256.729980</td>\n",
       "      <td>2256.729980</td>\n",
       "      <td>1658570000</td>\n",
       "    </tr>\n",
       "  </tbody>\n",
       "</table>\n",
       "</div>"
      ],
      "text/plain": [
       "                   Open         High          Low        Close    Adj Close  \\\n",
       "Date                                                                          \n",
       "2005-12-01  2244.850098  2269.389893  2244.709961  2267.169922  2267.169922   \n",
       "2005-12-02  2266.169922  2273.610107  2261.129883  2273.370117  2273.370117   \n",
       "2005-12-05  2269.070068  2269.479980  2250.840088  2257.639893  2257.639893   \n",
       "2005-12-06  2267.760010  2278.159912  2259.370117  2260.760010  2260.760010   \n",
       "2005-12-07  2263.290039  2264.909912  2244.620117  2252.010010  2252.010010   \n",
       "2005-12-08  2254.800049  2261.610107  2233.739990  2246.459961  2246.459961   \n",
       "2005-12-09  2247.280029  2258.669922  2241.030029  2256.729980  2256.729980   \n",
       "\n",
       "                Volume  \n",
       "Date                    \n",
       "2005-12-01  2010420000  \n",
       "2005-12-02  1758510000  \n",
       "2005-12-05  1659920000  \n",
       "2005-12-06  1788200000  \n",
       "2005-12-07  1733530000  \n",
       "2005-12-08  1908360000  \n",
       "2005-12-09  1658570000  "
      ]
     },
     "execution_count": 2,
     "metadata": {},
     "output_type": "execute_result"
    }
   ],
   "source": [
    "mydata = pd.read_csv('20051201_20051210.csv', index_col='Date')\n",
    "mydata\n"
   ]
  },
  {
   "cell_type": "code",
   "execution_count": 3,
   "id": "c52d8997",
   "metadata": {},
   "outputs": [],
   "source": [
    "def add_original_feature(df, df_new):\n",
    "    df_new['open'] = df['Open']\n",
    "    df_new['open_1'] = df['Open'].shift(1)\n",
    "    df_new['close_1'] = df['Close'].shift(1)\n",
    "    df_new['high_1'] = df['High'].shift(1)\n",
    "    df_new['low_1'] = df['Low'].shift(1)\n",
    "    df_new['volume_1'] = df['Volume'].shift(1)\n",
    "    "
   ]
  },
  {
   "cell_type": "code",
   "execution_count": 4,
   "id": "706af901",
   "metadata": {},
   "outputs": [],
   "source": [
    "def add_avg_price(df, df_new): \n",
    "    df_new['avg_price_5'] = df['Close'].rolling(5).mean().shift(1)\n",
    "    df_new['avg_price_30'] = df['Close'].rolling(21).mean().shift(1)\n",
    "    df_new['avg_price_365'] = df['Close'].rolling(252).mean().shift(1)\n",
    "    df_new['ratio_avg_price_5_30'] = df_new['avg_price_5'] / df_new['avg_price_30']\n",
    "    df_new['ratio_avg_price_5_365'] = df_new['avg_price_5'] / df_new['avg_price_365']\n",
    "    df_new['ratio_avg_price_30_365'] = df_new['avg_price_30'] / df_new['avg_price_365']\n",
    "    "
   ]
  },
  {
   "cell_type": "code",
   "execution_count": 5,
   "id": "479c6874",
   "metadata": {},
   "outputs": [],
   "source": [
    "def add_avg_volume(df, df_new):\n",
    "    df_new['avg_volume_5'] = df['Volume'].rolling(5).mean().shift(1)\n",
    "    df_new['avg_volume_30'] = df['Volume'].rolling(21).mean().shift(1)\n",
    "    df_new['avg_volume_365'] = df['Volume'].rolling(252).mean().shift(1)\n",
    "    df_new['ratio_avg_volume_5_30'] = df_new['avg_volume_5'] / df_new['avg_volume_30']\n",
    "    df_new['ratio_avg_volume_5_365'] = df_new['avg_volume_5'] / df_new['avg_volume_365']\n",
    "    df_new['ratio_avg_volume_30_365'] = df_new['avg_volume_30'] / df_new['avg_volume_365']\n",
    "    "
   ]
  },
  {
   "cell_type": "code",
   "execution_count": 6,
   "id": "ba4c709b",
   "metadata": {},
   "outputs": [],
   "source": [
    "def add_std_price(df, df_new):\n",
    "    df_new['std_price_5'] = df['Close'].rolling(5).std().shift(1)\n",
    "    df_new['std_price_30'] = df['Close'].rolling(21).std().shift(1)\n",
    "    df_new['std_price_365'] = df['Close'].rolling(252).std().shift(1)\n",
    "    df_new['ratio_std_price_5_30'] = df_new['std_price_5'] / df_new['std_price_30']\n",
    "    df_new['ratio_std_price_5_365'] = df_new['std_price_5'] / df_new['std_price_365']\n",
    "    df_new['ratio_std_price_30_365'] = df_new['std_price_30'] / df_new['std_price_365']\n",
    "    "
   ]
  },
  {
   "cell_type": "code",
   "execution_count": 7,
   "id": "734b16e8",
   "metadata": {},
   "outputs": [],
   "source": [
    "def add_std_volume(df, df_new):\n",
    "    df_new['std_volume_5'] = df['Volume'].rolling(5).std().shift(1)\n",
    "    df_new['std_volume_30'] = df['Volume'].rolling(21).std().shift(1)\n",
    "    df_new['std_volume_365'] = df['Volume'].rolling(252).std().shift(1)\n",
    "    df_new['ratio_std_volume_5_30'] = df_new['std_volume_5'] / df_new['std_volume_30']\n",
    "    df_new['ratio_std_volume_5_365'] = df_new['std_volume_5'] / df_new['std_volume_365']\n",
    "    df_new['ratio_std_volume_30_365'] = df_new['std_volume_30'] / df_new['std_volume_365']\n",
    "    "
   ]
  },
  {
   "cell_type": "code",
   "execution_count": 8,
   "id": "296cb6cb",
   "metadata": {},
   "outputs": [],
   "source": [
    "def add_return_feature(df, df_new):\n",
    "    df_new['return_1'] = ((df['Close'] - df['Close'].shift(1)) / df['Close'].shift(1)).shift(1)\n",
    "    df_new['return_5'] = ((df['Close'] - df['Close'].shift(5)) / df['Close'].shift(5)).shift(1)\n",
    "    df_new['return_30'] = ((df['Close'] - df['Close'].shift(21)) / df['Close'].shift(21)).shift(1)\n",
    "    df_new['return_365'] = ((df['Close'] - df['Close'].shift(252)) / df['Close'].shift(252)).shift(1)\n",
    "    df_new['moving_avg_5'] = df_new['return_1'].rolling(5).mean().shift(1)\n",
    "    df_new['moving_avg_30'] = df_new['return_1'].rolling(21).mean().shift(1)\n",
    "    df_new['moving_avg_365'] = df_new['return_1'].rolling(252).mean().shift(1)\n",
    "    "
   ]
  },
  {
   "cell_type": "code",
   "execution_count": 9,
   "id": "5a9d5170",
   "metadata": {},
   "outputs": [],
   "source": [
    "def generate_features(df):\n",
    "    \"\"\"\n",
    "    Generate features for a stock/index based on historical price and performance\n",
    "    @param df: dataframe with columns \"Open\", \"Close\", \"High\", \"Low\", \"Volume\", \"Adj Close\"\n",
    "    @return: dataframe, data set with new features\n",
    "    \"\"\"\n",
    "    df_new = pd.DataFrame()\n",
    "    # 6 original features\n",
    "    add_original_feature(df, df_new)\n",
    "    # 31 generated features\n",
    "    # average price\n",
    "    add_avg_price(df, df_new)\n",
    "    # average volume\n",
    "    add_avg_volume(df, df_new)\n",
    "    # standard deviation of prices\n",
    "    add_std_price(df, df_new)\n",
    "    # standard deviation of volumes\n",
    "    add_std_volume(df, df_new)\n",
    "    # # return\n",
    "    add_return_feature(df, df_new)\n",
    "    # the target\n",
    "    df_new['close'] = df['Close']\n",
    "    df_new = df_new.dropna(axis=0)\n",
    "    return df_new\n"
   ]
  },
  {
   "cell_type": "code",
   "execution_count": 10,
   "id": "f7f62f99",
   "metadata": {},
   "outputs": [
    {
     "name": "stdout",
     "output_type": "stream",
     "text": [
      "             open  open_1  close_1  high_1  low_1     volume_1  avg_price_5  \\\n",
      "Date                                                                          \n",
      "1991-01-03  371.2   373.0    372.2   373.5  371.8   92020000.0       372.14   \n",
      "1991-01-04  366.5   371.2    367.5   371.8  367.4  108390000.0       371.16   \n",
      "1991-01-07  363.5   366.5    367.2   367.9  365.9  103830000.0       370.38   \n",
      "1991-01-08  359.1   363.5    360.2   365.8  360.1  109460000.0       368.18   \n",
      "1991-01-09  362.4   359.1    359.0   360.5  358.2  111730000.0       365.22   \n",
      "\n",
      "            avg_price_30  avg_price_365  ratio_avg_price_5_30  ...  \\\n",
      "Date                                                           ...   \n",
      "1991-01-03       370.305        408.631                 1.005  ...   \n",
      "1991-01-04       370.600        408.266                 1.002  ...   \n",
      "1991-01-07       370.748        407.905                 0.999  ...   \n",
      "1991-01-08       370.238        407.514                 0.994  ...   \n",
      "1991-01-09       369.605        407.126                 0.988  ...   \n",
      "\n",
      "            ratio_std_volume_5_365  ratio_std_volume_30_365  return_1  \\\n",
      "Date                                                                    \n",
      "1991-01-03                   1.026                    1.246    -0.004   \n",
      "1991-01-04                   0.701                    1.252    -0.013   \n",
      "1991-01-07                   0.693                    1.260    -0.001   \n",
      "1991-01-08                   0.539                    1.238    -0.019   \n",
      "1991-01-09                   0.317                    1.057    -0.003   \n",
      "\n",
      "            return_5  return_30  return_365  moving_avg_5  moving_avg_30  \\\n",
      "Date                                                                       \n",
      "1991-01-03    -0.001      0.036      -0.192         0.000          0.002   \n",
      "1991-01-04    -0.013      0.017      -0.200        -0.000          0.002   \n",
      "1991-01-07    -0.011      0.009      -0.199        -0.003          0.001   \n",
      "1991-01-08    -0.030     -0.029      -0.215        -0.002          0.000   \n",
      "1991-01-09    -0.040     -0.036      -0.214        -0.006         -0.001   \n",
      "\n",
      "            moving_avg_365  close  \n",
      "Date                               \n",
      "1991-01-03          -0.001  367.5  \n",
      "1991-01-04          -0.001  367.2  \n",
      "1991-01-07          -0.001  360.2  \n",
      "1991-01-08          -0.001  359.0  \n",
      "1991-01-09          -0.001  357.5  \n",
      "\n",
      "[5 rows x 38 columns]\n"
     ]
    }
   ],
   "source": [
    "data_raw = pd.read_csv('19900101_20230630.csv', index_col='Date')\n",
    "data = generate_features(data_raw)\n",
    "print(data.round(decimals=3).head(5))\n"
   ]
  },
  {
   "cell_type": "markdown",
   "id": "0b4c8e45",
   "metadata": {},
   "source": [
    "# Estimating with linear regression "
   ]
  },
  {
   "cell_type": "markdown",
   "id": "46be3d62",
   "metadata": {},
   "source": [
    "## Implementing linear regression from scratch "
   ]
  },
  {
   "cell_type": "code",
   "execution_count": 11,
   "id": "f0064301",
   "metadata": {},
   "outputs": [],
   "source": [
    "import numpy as np"
   ]
  },
  {
   "cell_type": "code",
   "execution_count": 12,
   "id": "0ca440da",
   "metadata": {},
   "outputs": [],
   "source": [
    "def compute_prediction(X, weights):\n",
    "    \"\"\"\n",
    "    Compute the prediction y_hat based on current weights\n",
    "    \"\"\"\n",
    "    return np.dot(X, weights)\n"
   ]
  },
  {
   "cell_type": "code",
   "execution_count": 13,
   "id": "9c097c7b",
   "metadata": {},
   "outputs": [],
   "source": [
    "def update_weights_gd(X_train, y_train, weights, learning_rate):\n",
    "    \"\"\"\n",
    "    Update weights by one step and return updated wights\n",
    "    \"\"\"\n",
    "    predictions = compute_prediction(X_train, weights)\n",
    "    weights_delta = np.dot(X_train.T, y_train - predictions)\n",
    "    m = y_train.shape[0]\n",
    "    weights += learning_rate / float(m) * weights_delta\n",
    "    return weights\n"
   ]
  },
  {
   "cell_type": "code",
   "execution_count": 14,
   "id": "d56ceec3",
   "metadata": {},
   "outputs": [],
   "source": [
    "def compute_loss(X, y, weights):\n",
    "    \"\"\"\n",
    "    Compute the loss J(w)\n",
    "    \"\"\"\n",
    "    predictions = compute_prediction(X, weights)\n",
    "    return np.mean((predictions - y) ** 2 / 2.0)\n"
   ]
  },
  {
   "cell_type": "code",
   "execution_count": 15,
   "id": "9ffd3765",
   "metadata": {},
   "outputs": [],
   "source": [
    "def train_linear_regression(X_train, y_train, max_iter, learning_rate, fit_intercept=False, display_loss=500):\n",
    "    \"\"\"\n",
    "    Train a linear regression model with gradient descent, and return trained model\n",
    "    \"\"\"\n",
    "    if fit_intercept:\n",
    "        intercept = np.ones((X_train.shape[0], 1))\n",
    "        X_train = np.hstack((intercept, X_train))\n",
    "    weights = np.zeros(X_train.shape[1])\n",
    "    for iteration in range(max_iter):\n",
    "        weights = update_weights_gd(X_train, y_train, weights, learning_rate)\n",
    "        # Check the cost for every 500 (by default) iterations\n",
    "        if iteration % display_loss == 0:\n",
    "            print(compute_loss(X_train, y_train, weights))\n",
    "    return weights\n"
   ]
  },
  {
   "cell_type": "code",
   "execution_count": 16,
   "id": "5027cbab",
   "metadata": {},
   "outputs": [],
   "source": [
    "def predict(X, weights):\n",
    "    if X.shape[1] == weights.shape[0] - 1:\n",
    "        intercept = np.ones((X.shape[0], 1))\n",
    "        X = np.hstack((intercept, X))\n",
    "    return compute_prediction(X, weights)\n"
   ]
  },
  {
   "cell_type": "code",
   "execution_count": 17,
   "id": "f3ad297e",
   "metadata": {},
   "outputs": [],
   "source": [
    "# A small example\n",
    "X_train = np.array([[6], [2], [3], [4], [1], [5], [2], [6], [4], [7]])\n",
    "y_train = np.array([5.5, 1.6, 2.2, 3.7, 0.8, 5.2, 1.5, 5.3, 4.4, 6.8])\n"
   ]
  },
  {
   "cell_type": "code",
   "execution_count": 18,
   "id": "38858fda",
   "metadata": {},
   "outputs": [
    {
     "name": "stdout",
     "output_type": "stream",
     "text": [
      "5.571972628\n"
     ]
    }
   ],
   "source": [
    "weights = train_linear_regression(X_train, y_train, max_iter=100, learning_rate=0.01, fit_intercept=True)\n"
   ]
  },
  {
   "cell_type": "code",
   "execution_count": 19,
   "id": "a5f8b885",
   "metadata": {},
   "outputs": [
    {
     "data": {
      "image/png": "[encoded data removed]",
      "text/plain": [
       "<Figure size 640x480 with 1 Axes>"
      ]
     },
     "metadata": {},
     "output_type": "display_data"
    }
   ],
   "source": [
    "X_test = np.array([[1.3], [3.5], [5.2], [2.8]])\n",
    "\n",
    "predictions = predict(X_test, weights)\n",
    "\n",
    "import matplotlib.pyplot as plt\n",
    "plt.scatter(X_train[:, 0], y_train, marker='o', c='b')\n",
    "plt.scatter(X_test[:, 0], predictions, marker='*', c='k')\n",
    "plt.xlabel('x')\n",
    "plt.ylabel('y')\n",
    "plt.show()"
   ]
  },
  {
   "cell_type": "code",
   "execution_count": 20,
   "id": "f6998966",
   "metadata": {},
   "outputs": [
    {
     "name": "stdout",
     "output_type": "stream",
     "text": [
      "(442, 10)\n"
     ]
    }
   ],
   "source": [
    "# The diabetes example\n",
    "from sklearn import datasets\n",
    "diabetes = datasets.load_diabetes()\n",
    "print(diabetes.data.shape)\n",
    "\n",
    "num_test = 30\n",
    "X_train = diabetes.data[:-num_test, :]\n",
    "y_train = diabetes.target[:-num_test]\n"
   ]
  },
  {
   "cell_type": "code",
   "execution_count": 21,
   "id": "bb9eeb27",
   "metadata": {},
   "outputs": [
    {
     "name": "stdout",
     "output_type": "stream",
     "text": [
      "2960.123025607216\n",
      "1539.554802043756\n",
      "1487.0293572901583\n",
      "1480.280921685538\n",
      "1479.0201696937393\n",
      "1478.57947029736\n",
      "1478.3009164521106\n",
      "1478.0673513977845\n",
      "1477.8521034731898\n",
      "1477.647589314213\n",
      "[232.22192119 123.87532386 166.12297497 170.23855082 228.12523411\n",
      " 154.9570854  101.09011561  87.33479691 143.68827095 190.29424697\n",
      " 198.00696804 149.63068784 169.56215468 109.01832867 161.97943375\n",
      " 133.00757288 260.18431805 101.52516612 115.76691141 120.73229914\n",
      " 219.62761982  62.21080727 136.29855757 122.27895603  55.14532638\n",
      " 191.50289376 105.68864904 126.26137526 208.99754096  47.66481183]\n",
      "[261. 113. 131. 174. 257.  55.  84.  42. 146. 212. 233.  91. 111. 152.\n",
      " 120.  67. 310.  94. 183.  66. 173.  72.  49.  64.  48. 178. 104. 132.\n",
      " 220.  57.]\n"
     ]
    }
   ],
   "source": [
    "weights = train_linear_regression(X_train, y_train, max_iter=5000, learning_rate=1, fit_intercept=True)\n",
    "\n",
    "X_test = diabetes.data[-num_test:, :]\n",
    "y_test = diabetes.target[-num_test:]\n",
    "\n",
    "predictions = predict(X_test, weights)\n",
    "\n",
    "print(predictions)\n",
    "print(y_test)"
   ]
  },
  {
   "cell_type": "markdown",
   "id": "f0fd7b5e",
   "metadata": {},
   "source": [
    "## Implementing linear regression with scikit-learn "
   ]
  },
  {
   "cell_type": "code",
   "execution_count": 22,
   "id": "852e00a6",
   "metadata": {},
   "outputs": [],
   "source": [
    "# Directly use SGDRegressor from scikit-learn\n",
    "from sklearn.linear_model import SGDRegressor\n",
    "regressor = SGDRegressor(loss='squared_error', \n",
    "                         penalty='l2', \n",
    "                         alpha=0.0001, \n",
    "                         learning_rate='constant', \n",
    "                         eta0=0.2,\n",
    "                         max_iter=100, \n",
    "                         random_state=42)\n"
   ]
  },
  {
   "cell_type": "code",
   "execution_count": 23,
   "id": "03d20631",
   "metadata": {},
   "outputs": [
    {
     "name": "stdout",
     "output_type": "stream",
     "text": [
      "[213.10213626 108.68382244 152.18820636 153.81308148 208.42650616\n",
      " 137.24771808  88.91487772  73.83269079 131.35148348 173.65164632\n",
      " 178.16029669 135.26642772 152.92346973  89.39394334 149.98088897\n",
      " 117.62875063 241.90665387  86.59992328 101.90393228 105.13958969\n",
      " 202.13586812  50.60429115 121.43542595 106.34058448  41.11664041\n",
      " 172.53683431  95.43229463 112.59395222 187.40792     36.1586737 ]\n"
     ]
    }
   ],
   "source": [
    "regressor.fit(X_train, y_train)\n",
    "predictions = regressor.predict(X_test)\n",
    "print(predictions)"
   ]
  },
  {
   "cell_type": "markdown",
   "id": "b5312eed",
   "metadata": {},
   "source": [
    "## Implementing linear regression with TensorFlow"
   ]
  },
  {
   "cell_type": "code",
   "execution_count": 24,
   "id": "1403e9bc",
   "metadata": {},
   "outputs": [],
   "source": [
    "import tensorflow as tf"
   ]
  },
  {
   "cell_type": "code",
   "execution_count": 25,
   "id": "b3e3ee29",
   "metadata": {},
   "outputs": [],
   "source": [
    "layer0 = tf.keras.layers.Dense(units=1, input_shape=[X_train.shape[1]])\n",
    "model = tf.keras.Sequential(layer0)\n"
   ]
  },
  {
   "cell_type": "code",
   "execution_count": 26,
   "id": "f97a1666",
   "metadata": {},
   "outputs": [],
   "source": [
    "model.compile(loss='mean_squared_error',\n",
    "              optimizer=tf.keras.optimizers.Adam(1))\n"
   ]
  },
  {
   "cell_type": "code",
   "execution_count": 27,
   "id": "bc8d05d8",
   "metadata": {},
   "outputs": [
    {
     "name": "stdout",
     "output_type": "stream",
     "text": [
      "Epoch 1/100\n",
      "13/13 [==============================] - 1s 4ms/step - loss: 27667.6582\n",
      "Epoch 2/100\n",
      "13/13 [==============================] - 0s 3ms/step - loss: 23819.5781\n",
      "Epoch 3/100\n",
      "13/13 [==============================] - 0s 1ms/step - loss: 20415.3184\n",
      "Epoch 4/100\n",
      "13/13 [==============================] - 0s 1ms/step - loss: 17483.2656\n",
      "Epoch 5/100\n",
      "13/13 [==============================] - 0s 750us/step - loss: 14915.0195\n",
      "Epoch 6/100\n",
      "13/13 [==============================] - 0s 833us/step - loss: 12778.4043\n",
      "Epoch 7/100\n",
      "13/13 [==============================] - 0s 833us/step - loss: 10970.9189\n",
      "Epoch 8/100\n",
      "13/13 [==============================] - 0s 833us/step - loss: 9471.6514\n",
      "Epoch 9/100\n",
      "13/13 [==============================] - 0s 833us/step - loss: 8235.5283\n",
      "Epoch 10/100\n",
      "13/13 [==============================] - 0s 750us/step - loss: 7239.2500\n",
      "Epoch 11/100\n",
      "13/13 [==============================] - 0s 833us/step - loss: 6430.8574\n",
      "Epoch 12/100\n",
      "13/13 [==============================] - 0s 750us/step - loss: 5781.8804\n",
      "Epoch 13/100\n",
      "13/13 [==============================] - 0s 833us/step - loss: 5281.3999\n",
      "Epoch 14/100\n",
      "13/13 [==============================] - 0s 750us/step - loss: 4885.7080\n",
      "Epoch 15/100\n",
      "13/13 [==============================] - 0s 750us/step - loss: 4579.2983\n",
      "Epoch 16/100\n",
      "13/13 [==============================] - 0s 750us/step - loss: 4322.8979\n",
      "Epoch 17/100\n",
      "13/13 [==============================] - 0s 750us/step - loss: 4134.0205\n",
      "Epoch 18/100\n",
      "13/13 [==============================] - 0s 833us/step - loss: 4001.1328\n",
      "Epoch 19/100\n",
      "13/13 [==============================] - 0s 750us/step - loss: 3879.1487\n",
      "Epoch 20/100\n",
      "13/13 [==============================] - 0s 750us/step - loss: 3788.5737\n",
      "Epoch 21/100\n",
      "13/13 [==============================] - 0s 750us/step - loss: 3711.8848\n",
      "Epoch 22/100\n",
      "13/13 [==============================] - 0s 750us/step - loss: 3650.2341\n",
      "Epoch 23/100\n",
      "13/13 [==============================] - 0s 833us/step - loss: 3599.8335\n",
      "Epoch 24/100\n",
      "13/13 [==============================] - 0s 833us/step - loss: 3555.5229\n",
      "Epoch 25/100\n",
      "13/13 [==============================] - 0s 833us/step - loss: 3515.7229\n",
      "Epoch 26/100\n",
      "13/13 [==============================] - 0s 833us/step - loss: 3482.8625\n",
      "Epoch 27/100\n",
      "13/13 [==============================] - 0s 917us/step - loss: 3450.0229\n",
      "Epoch 28/100\n",
      "13/13 [==============================] - 0s 833us/step - loss: 3422.1509\n",
      "Epoch 29/100\n",
      "13/13 [==============================] - 0s 833us/step - loss: 3393.9714\n",
      "Epoch 30/100\n",
      "13/13 [==============================] - 0s 1ms/step - loss: 3370.7065\n",
      "Epoch 31/100\n",
      "13/13 [==============================] - 0s 917us/step - loss: 3348.1240\n",
      "Epoch 32/100\n",
      "13/13 [==============================] - 0s 833us/step - loss: 3325.6028\n",
      "Epoch 33/100\n",
      "13/13 [==============================] - 0s 917us/step - loss: 3304.8513\n",
      "Epoch 34/100\n",
      "13/13 [==============================] - 0s 917us/step - loss: 3286.9023\n",
      "Epoch 35/100\n",
      "13/13 [==============================] - 0s 1000us/step - loss: 3268.2483\n",
      "Epoch 36/100\n",
      "13/13 [==============================] - 0s 833us/step - loss: 3250.3835\n",
      "Epoch 37/100\n",
      "13/13 [==============================] - 0s 750us/step - loss: 3233.3311\n",
      "Epoch 38/100\n",
      "13/13 [==============================] - 0s 833us/step - loss: 3219.4570\n",
      "Epoch 39/100\n",
      "13/13 [==============================] - 0s 833us/step - loss: 3204.0813\n",
      "Epoch 40/100\n",
      "13/13 [==============================] - 0s 750us/step - loss: 3192.2776\n",
      "Epoch 41/100\n",
      "13/13 [==============================] - 0s 750us/step - loss: 3176.3438\n",
      "Epoch 42/100\n",
      "13/13 [==============================] - 0s 750us/step - loss: 3164.1287\n",
      "Epoch 43/100\n",
      "13/13 [==============================] - 0s 750us/step - loss: 3152.6055\n",
      "Epoch 44/100\n",
      "13/13 [==============================] - 0s 750us/step - loss: 3143.3938\n",
      "Epoch 45/100\n",
      "13/13 [==============================] - 0s 749us/step - loss: 3131.6240\n",
      "Epoch 46/100\n",
      "13/13 [==============================] - 0s 750us/step - loss: 3121.9617\n",
      "Epoch 47/100\n",
      "13/13 [==============================] - 0s 750us/step - loss: 3111.7717\n",
      "Epoch 48/100\n",
      "13/13 [==============================] - 0s 750us/step - loss: 3104.4885\n",
      "Epoch 49/100\n",
      "13/13 [==============================] - 0s 750us/step - loss: 3095.9485\n",
      "Epoch 50/100\n",
      "13/13 [==============================] - 0s 750us/step - loss: 3087.9392\n",
      "Epoch 51/100\n",
      "13/13 [==============================] - 0s 833us/step - loss: 3080.7617\n",
      "Epoch 52/100\n",
      "13/13 [==============================] - 0s 833us/step - loss: 3074.7051\n",
      "Epoch 53/100\n",
      "13/13 [==============================] - 0s 833us/step - loss: 3068.7708\n",
      "Epoch 54/100\n",
      "13/13 [==============================] - 0s 833us/step - loss: 3061.4827\n",
      "Epoch 55/100\n",
      "13/13 [==============================] - 0s 750us/step - loss: 3055.8276\n",
      "Epoch 56/100\n",
      "13/13 [==============================] - 0s 750us/step - loss: 3051.5422\n",
      "Epoch 57/100\n",
      "13/13 [==============================] - 0s 750us/step - loss: 3046.3799\n",
      "Epoch 58/100\n",
      "13/13 [==============================] - 0s 750us/step - loss: 3041.3203\n",
      "Epoch 59/100\n",
      "13/13 [==============================] - 0s 667us/step - loss: 3035.9189\n",
      "Epoch 60/100\n",
      "13/13 [==============================] - 0s 750us/step - loss: 3031.7341\n",
      "Epoch 61/100\n",
      "13/13 [==============================] - 0s 750us/step - loss: 3028.9600\n",
      "Epoch 62/100\n",
      "13/13 [==============================] - 0s 750us/step - loss: 3025.8047\n",
      "Epoch 63/100\n",
      "13/13 [==============================] - 0s 750us/step - loss: 3020.7151\n",
      "Epoch 64/100\n",
      "13/13 [==============================] - 0s 750us/step - loss: 3018.3708\n",
      "Epoch 65/100\n",
      "13/13 [==============================] - 0s 750us/step - loss: 3013.8152\n",
      "Epoch 66/100\n",
      "13/13 [==============================] - 0s 750us/step - loss: 3011.6487\n",
      "Epoch 67/100\n",
      "13/13 [==============================] - 0s 750us/step - loss: 3008.9263\n",
      "Epoch 68/100\n",
      "13/13 [==============================] - 0s 750us/step - loss: 3006.3347\n",
      "Epoch 69/100\n",
      "13/13 [==============================] - 0s 750us/step - loss: 3004.5740\n",
      "Epoch 70/100\n",
      "13/13 [==============================] - 0s 750us/step - loss: 3003.3308\n",
      "Epoch 71/100\n",
      "13/13 [==============================] - 0s 833us/step - loss: 3000.5798\n",
      "Epoch 72/100\n",
      "13/13 [==============================] - 0s 750us/step - loss: 2999.5876\n",
      "Epoch 73/100\n",
      "13/13 [==============================] - 0s 750us/step - loss: 2995.3286\n",
      "Epoch 74/100\n",
      "13/13 [==============================] - 0s 750us/step - loss: 2994.1665\n",
      "Epoch 75/100\n",
      "13/13 [==============================] - 0s 750us/step - loss: 2994.6372\n",
      "Epoch 76/100\n",
      "13/13 [==============================] - 0s 750us/step - loss: 2990.7439\n",
      "Epoch 77/100\n",
      "13/13 [==============================] - 0s 750us/step - loss: 2989.2349\n",
      "Epoch 78/100\n",
      "13/13 [==============================] - 0s 667us/step - loss: 2987.7815\n",
      "Epoch 79/100\n",
      "13/13 [==============================] - 0s 833us/step - loss: 2985.6448\n",
      "Epoch 80/100\n",
      "13/13 [==============================] - 0s 762us/step - loss: 2985.8376\n",
      "Epoch 81/100\n",
      "13/13 [==============================] - 0s 731us/step - loss: 2982.6987\n",
      "Epoch 82/100\n",
      "13/13 [==============================] - 0s 750us/step - loss: 2983.2917\n",
      "Epoch 83/100\n",
      "13/13 [==============================] - 0s 750us/step - loss: 2981.9517\n",
      "Epoch 84/100\n",
      "13/13 [==============================] - 0s 750us/step - loss: 2981.1196\n",
      "Epoch 85/100\n",
      "13/13 [==============================] - 0s 750us/step - loss: 2980.8684\n",
      "Epoch 86/100\n",
      "13/13 [==============================] - 0s 750us/step - loss: 2979.6501\n",
      "Epoch 87/100\n",
      "13/13 [==============================] - 0s 750us/step - loss: 2978.0608\n",
      "Epoch 88/100\n",
      "13/13 [==============================] - 0s 750us/step - loss: 2977.0835\n",
      "Epoch 89/100\n",
      "13/13 [==============================] - 0s 750us/step - loss: 2975.9553\n",
      "Epoch 90/100\n",
      "13/13 [==============================] - 0s 750us/step - loss: 2976.2324\n",
      "Epoch 91/100\n",
      "13/13 [==============================] - 0s 750us/step - loss: 2975.5173\n",
      "Epoch 92/100\n",
      "13/13 [==============================] - 0s 750us/step - loss: 2976.0383\n",
      "Epoch 93/100\n",
      "13/13 [==============================] - 0s 750us/step - loss: 2974.7817\n",
      "Epoch 94/100\n",
      "13/13 [==============================] - 0s 750us/step - loss: 2973.0659\n",
      "Epoch 95/100\n",
      "13/13 [==============================] - 0s 750us/step - loss: 2972.7129\n",
      "Epoch 96/100\n"
     ]
    },
    {
     "name": "stdout",
     "output_type": "stream",
     "text": [
      "13/13 [==============================] - 0s 750us/step - loss: 2973.2327\n",
      "Epoch 97/100\n",
      "13/13 [==============================] - 0s 750us/step - loss: 2971.6487\n",
      "Epoch 98/100\n",
      "13/13 [==============================] - 0s 667us/step - loss: 2972.5449\n",
      "Epoch 99/100\n",
      "13/13 [==============================] - 0s 750us/step - loss: 2970.8496\n",
      "Epoch 100/100\n",
      "13/13 [==============================] - 0s 667us/step - loss: 2970.1348\n"
     ]
    },
    {
     "data": {
      "text/plain": [
       "<keras.callbacks.History at 0x220b76bdd00>"
      ]
     },
     "execution_count": 27,
     "metadata": {},
     "output_type": "execute_result"
    }
   ],
   "source": [
    "model.fit(X_train, y_train, epochs=100, verbose=True)\n"
   ]
  },
  {
   "cell_type": "code",
   "execution_count": 28,
   "id": "64b31763",
   "metadata": {},
   "outputs": [
    {
     "name": "stdout",
     "output_type": "stream",
     "text": [
      "1/1 [==============================] - 0s 69ms/step\n",
      "[231.87244  124.46891  167.07492  171.67328  228.05782  152.1618\n",
      " 103.20677   92.20486  151.13374  190.63141  191.14505  153.18742\n",
      " 169.42885  106.73273  167.38188  133.95255  259.7947   101.85489\n",
      " 119.551254 121.691284 219.48799   65.594696 138.60153  123.87756\n",
      "  57.003967 189.77586  108.673965 129.55598  205.46254   48.874237]\n"
     ]
    }
   ],
   "source": [
    "predictions = model.predict(X_test)[:, 0]\n",
    "print(predictions)"
   ]
  },
  {
   "cell_type": "markdown",
   "id": "64e216e3",
   "metadata": {},
   "source": [
    "---"
   ]
  },
  {
   "cell_type": "markdown",
   "id": "847dc349",
   "metadata": {},
   "source": [
    "Readers may ignore the next cell."
   ]
  },
  {
   "cell_type": "code",
   "execution_count": 29,
   "id": "84774f35",
   "metadata": {},
   "outputs": [
    {
     "name": "stderr",
     "output_type": "stream",
     "text": [
      "[NbConvertApp] Converting notebook ch5_part1.ipynb to python\n",
      "[NbConvertApp] Writing 8116 bytes to ch5_part1.py\n"
     ]
    }
   ],
   "source": [
    "!jupyter nbconvert --to python ch5_part1.ipynb --TemplateExporter.exclude_input_prompt=True"
   ]
  }
 ],
 "metadata": {
  "kernelspec": {
   "display_name": "Python 3 (ipykernel)",
   "language": "python",
   "name": "python3"
  },
  "language_info": {
   "codemirror_mode": {
    "name": "ipython",
    "version": 3
   },
   "file_extension": ".py",
   "mimetype": "text/x-python",
   "name": "python",
   "nbconvert_exporter": "python",
   "pygments_lexer": "ipython3",
   "version": "3.9.16"
  }
 },
 "nbformat": 4,
 "nbformat_minor": 5
}
