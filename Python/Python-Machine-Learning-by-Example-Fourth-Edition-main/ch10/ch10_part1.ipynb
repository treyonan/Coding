{
 "cells": [
  {
   "cell_type": "markdown",
   "id": "ce4511a5",
   "metadata": {},
   "source": [
    "Source codes for Python Machine Learning By Example 4th Edition (Packt Publishing)\n",
    "\n",
    "Chapter 10 Machine Learning Best Practices\n",
    "\n",
    "Author: Yuxi (Hayden) Liu (yuxi.liu.ece@gmail.com)"
   ]
  },
  {
   "cell_type": "markdown",
   "id": "3a50a399",
   "metadata": {},
   "source": [
    "# Best practices in the data preparation stage"
   ]
  },
  {
   "cell_type": "markdown",
   "id": "e172b914",
   "metadata": {},
   "source": [
    "## Best practice 4 – Dealing with missing data"
   ]
  },
  {
   "cell_type": "code",
   "execution_count": 1,
   "id": "286232d6",
   "metadata": {},
   "outputs": [],
   "source": [
    "import numpy as np\n",
    "from sklearn.impute import SimpleImputer\n"
   ]
  },
  {
   "cell_type": "code",
   "execution_count": 2,
   "id": "d17cc46d",
   "metadata": {},
   "outputs": [],
   "source": [
    "data_origin = [[30, 100],\n",
    "               [20, 50],\n",
    "               [35, np.nan],\n",
    "               [25, 80],\n",
    "               [30, 70],\n",
    "               [40, 60]]"
   ]
  },
  {
   "cell_type": "code",
   "execution_count": 3,
   "id": "d616b5dd",
   "metadata": {},
   "outputs": [
    {
     "data": {
      "text/html": [
       "<style>#sk-container-id-1 {color: black;}#sk-container-id-1 pre{padding: 0;}#sk-container-id-1 div.sk-toggleable {background-color: white;}#sk-container-id-1 label.sk-toggleable__label {cursor: pointer;display: block;width: 100%;margin-bottom: 0;padding: 0.3em;box-sizing: border-box;text-align: center;}#sk-container-id-1 label.sk-toggleable__label-arrow:before {content: \"▸\";float: left;margin-right: 0.25em;color: #696969;}#sk-container-id-1 label.sk-toggleable__label-arrow:hover:before {color: black;}#sk-container-id-1 div.sk-estimator:hover label.sk-toggleable__label-arrow:before {color: black;}#sk-container-id-1 div.sk-toggleable__content {max-height: 0;max-width: 0;overflow: hidden;text-align: left;background-color: #f0f8ff;}#sk-container-id-1 div.sk-toggleable__content pre {margin: 0.2em;color: black;border-radius: 0.25em;background-color: #f0f8ff;}#sk-container-id-1 input.sk-toggleable__control:checked~div.sk-toggleable__content {max-height: 200px;max-width: 100%;overflow: auto;}#sk-container-id-1 input.sk-toggleable__control:checked~label.sk-toggleable__label-arrow:before {content: \"▾\";}#sk-container-id-1 div.sk-estimator input.sk-toggleable__control:checked~label.sk-toggleable__label {background-color: #d4ebff;}#sk-container-id-1 div.sk-label input.sk-toggleable__control:checked~label.sk-toggleable__label {background-color: #d4ebff;}#sk-container-id-1 input.sk-hidden--visually {border: 0;clip: rect(1px 1px 1px 1px);clip: rect(1px, 1px, 1px, 1px);height: 1px;margin: -1px;overflow: hidden;padding: 0;position: absolute;width: 1px;}#sk-container-id-1 div.sk-estimator {font-family: monospace;background-color: #f0f8ff;border: 1px dotted black;border-radius: 0.25em;box-sizing: border-box;margin-bottom: 0.5em;}#sk-container-id-1 div.sk-estimator:hover {background-color: #d4ebff;}#sk-container-id-1 div.sk-parallel-item::after {content: \"\";width: 100%;border-bottom: 1px solid gray;flex-grow: 1;}#sk-container-id-1 div.sk-label:hover label.sk-toggleable__label {background-color: #d4ebff;}#sk-container-id-1 div.sk-serial::before {content: \"\";position: absolute;border-left: 1px solid gray;box-sizing: border-box;top: 0;bottom: 0;left: 50%;z-index: 0;}#sk-container-id-1 div.sk-serial {display: flex;flex-direction: column;align-items: center;background-color: white;padding-right: 0.2em;padding-left: 0.2em;position: relative;}#sk-container-id-1 div.sk-item {position: relative;z-index: 1;}#sk-container-id-1 div.sk-parallel {display: flex;align-items: stretch;justify-content: center;background-color: white;position: relative;}#sk-container-id-1 div.sk-item::before, #sk-container-id-1 div.sk-parallel-item::before {content: \"\";position: absolute;border-left: 1px solid gray;box-sizing: border-box;top: 0;bottom: 0;left: 50%;z-index: -1;}#sk-container-id-1 div.sk-parallel-item {display: flex;flex-direction: column;z-index: 1;position: relative;background-color: white;}#sk-container-id-1 div.sk-parallel-item:first-child::after {align-self: flex-end;width: 50%;}#sk-container-id-1 div.sk-parallel-item:last-child::after {align-self: flex-start;width: 50%;}#sk-container-id-1 div.sk-parallel-item:only-child::after {width: 0;}#sk-container-id-1 div.sk-dashed-wrapped {border: 1px dashed gray;margin: 0 0.4em 0.5em 0.4em;box-sizing: border-box;padding-bottom: 0.4em;background-color: white;}#sk-container-id-1 div.sk-label label {font-family: monospace;font-weight: bold;display: inline-block;line-height: 1.2em;}#sk-container-id-1 div.sk-label-container {text-align: center;}#sk-container-id-1 div.sk-container {/* jupyter's `normalize.less` sets `[hidden] { display: none; }` but bootstrap.min.css set `[hidden] { display: none !important; }` so we also need the `!important` here to be able to override the default hidden behavior on the sphinx rendered scikit-learn.org. See: https://github.com/scikit-learn/scikit-learn/issues/21755 */display: inline-block !important;position: relative;}#sk-container-id-1 div.sk-text-repr-fallback {display: none;}</style><div id=\"sk-container-id-1\" class=\"sk-top-container\"><div class=\"sk-text-repr-fallback\"><pre>SimpleImputer()</pre><b>In a Jupyter environment, please rerun this cell to show the HTML representation or trust the notebook. <br />On GitHub, the HTML representation is unable to render, please try loading this page with nbviewer.org.</b></div><div class=\"sk-container\" hidden><div class=\"sk-item\"><div class=\"sk-estimator sk-toggleable\"><input class=\"sk-toggleable__control sk-hidden--visually\" id=\"sk-estimator-id-1\" type=\"checkbox\" checked><label for=\"sk-estimator-id-1\" class=\"sk-toggleable__label sk-toggleable__label-arrow\">SimpleImputer</label><div class=\"sk-toggleable__content\"><pre>SimpleImputer()</pre></div></div></div></div></div>"
      ],
      "text/plain": [
       "SimpleImputer()"
      ]
     },
     "execution_count": 3,
     "metadata": {},
     "output_type": "execute_result"
    }
   ],
   "source": [
    "imp_mean = SimpleImputer(missing_values=np.nan, strategy='mean')\n",
    "imp_mean.fit(data_origin)"
   ]
  },
  {
   "cell_type": "code",
   "execution_count": 4,
   "id": "e9641c09",
   "metadata": {},
   "outputs": [
    {
     "name": "stdout",
     "output_type": "stream",
     "text": [
      "[[ 30. 100.]\n",
      " [ 20.  50.]\n",
      " [ 35.  72.]\n",
      " [ 25.  80.]\n",
      " [ 30.  70.]\n",
      " [ 40.  60.]]\n"
     ]
    }
   ],
   "source": [
    "data_mean_imp = imp_mean.transform(data_origin)\n",
    "print(data_mean_imp)"
   ]
  },
  {
   "cell_type": "code",
   "execution_count": 5,
   "id": "4a1d5e45",
   "metadata": {},
   "outputs": [
    {
     "name": "stdout",
     "output_type": "stream",
     "text": [
      "[[ 30. 100.]\n",
      " [ 20.  50.]\n",
      " [ 35.  70.]\n",
      " [ 25.  80.]\n",
      " [ 30.  70.]\n",
      " [ 40.  60.]]\n"
     ]
    }
   ],
   "source": [
    "imp_median = SimpleImputer(missing_values=np.nan, strategy='median')\n",
    "imp_median.fit(data_origin)\n",
    "data_median_imp = imp_median.transform(data_origin)\n",
    "print(data_median_imp)"
   ]
  },
  {
   "cell_type": "code",
   "execution_count": 6,
   "id": "704cfc98",
   "metadata": {},
   "outputs": [
    {
     "name": "stdout",
     "output_type": "stream",
     "text": [
      "[[20. 72.]\n",
      " [30. 72.]\n",
      " [30. 70.]\n",
      " [30. 72.]]\n"
     ]
    }
   ],
   "source": [
    "# New samples\n",
    "new = [[20, np.nan],\n",
    "       [30, np.nan],\n",
    "       [np.nan, 70],\n",
    "       [np.nan, np.nan]]\n",
    "new_mean_imp = imp_mean.transform(new)\n",
    "print(new_mean_imp)\n"
   ]
  },
  {
   "cell_type": "code",
   "execution_count": 7,
   "id": "c65207e3",
   "metadata": {},
   "outputs": [],
   "source": [
    "# Effects of discarding missing values and imputation\n",
    "from sklearn import datasets\n",
    "dataset = datasets.load_diabetes()\n",
    "X_full, y = dataset.data, dataset.target"
   ]
  },
  {
   "cell_type": "code",
   "execution_count": 8,
   "id": "6daa36e3",
   "metadata": {},
   "outputs": [
    {
     "name": "stdout",
     "output_type": "stream",
     "text": [
      "442 110\n"
     ]
    }
   ],
   "source": [
    "m, n = X_full.shape\n",
    "m_missing = int(m * 0.25)\n",
    "print(m, m_missing)"
   ]
  },
  {
   "cell_type": "code",
   "execution_count": 9,
   "id": "e795d5e0",
   "metadata": {},
   "outputs": [],
   "source": [
    "np.random.seed(42)\n",
    "missing_samples = np.array([True] * m_missing + [False] * (m - m_missing))\n",
    "np.random.shuffle(missing_samples)"
   ]
  },
  {
   "cell_type": "code",
   "execution_count": 10,
   "id": "94ba08a9",
   "metadata": {},
   "outputs": [],
   "source": [
    "missing_features = np.random.randint(low=0, high=n, size=m_missing)"
   ]
  },
  {
   "cell_type": "code",
   "execution_count": 11,
   "id": "e7d314e1",
   "metadata": {},
   "outputs": [],
   "source": [
    "X_missing = X_full.copy()\n",
    "X_missing[np.where(missing_samples)[0], missing_features] = np.nan"
   ]
  },
  {
   "cell_type": "code",
   "execution_count": 12,
   "id": "1a20bc80",
   "metadata": {},
   "outputs": [],
   "source": [
    "# Discard samples containing missing values\n",
    "X_rm_missing = X_missing[~missing_samples, :]\n",
    "y_rm_missing = y[~missing_samples]"
   ]
  },
  {
   "cell_type": "code",
   "execution_count": 13,
   "id": "2ffcdf4d",
   "metadata": {},
   "outputs": [
    {
     "name": "stdout",
     "output_type": "stream",
     "text": [
      "Score with the data set with missing samples removed: 0.38\n"
     ]
    }
   ],
   "source": [
    "# Estimate R^2 on the data set with missing samples removed\n",
    "from sklearn.ensemble import RandomForestRegressor\n",
    "from sklearn.model_selection import cross_val_score\n",
    "regressor = RandomForestRegressor(random_state=42, max_depth=10, n_estimators=100)\n",
    "score_rm_missing = cross_val_score(regressor, X_rm_missing, y_rm_missing).mean()\n",
    "print(f'Score with the data set with missing samples removed: {score_rm_missing:.2f}')"
   ]
  },
  {
   "cell_type": "code",
   "execution_count": 14,
   "id": "ffad3871",
   "metadata": {},
   "outputs": [],
   "source": [
    "# Imputation with mean value\n",
    "imp_mean = SimpleImputer(missing_values=np.nan, strategy='mean')\n",
    "X_mean_imp = imp_mean.fit_transform(X_missing)"
   ]
  },
  {
   "cell_type": "code",
   "execution_count": 15,
   "id": "31a737f9",
   "metadata": {},
   "outputs": [
    {
     "name": "stdout",
     "output_type": "stream",
     "text": [
      "Score with the data set with missing values replaced by mean: 0.41\n"
     ]
    }
   ],
   "source": [
    "# Estimate R^2 on the data set with missing samples removed\n",
    "regressor = RandomForestRegressor(random_state=42, max_depth=10, n_estimators=100)\n",
    "score_mean_imp = cross_val_score(regressor, X_mean_imp, y).mean()\n",
    "print(f'Score with the data set with missing values replaced by mean: {score_mean_imp:.2f}')"
   ]
  },
  {
   "cell_type": "code",
   "execution_count": 16,
   "id": "2963a628",
   "metadata": {},
   "outputs": [
    {
     "name": "stdout",
     "output_type": "stream",
     "text": [
      "Score with the full data set: 0.42\n"
     ]
    }
   ],
   "source": [
    "# Estimate R^2 on the full data set\n",
    "regressor = RandomForestRegressor(random_state=42, max_depth=10, n_estimators=500)\n",
    "score_full = cross_val_score(regressor, X_full, y).mean()\n",
    "print(f'Score with the full data set: {score_full:.2f}')\n"
   ]
  },
  {
   "cell_type": "markdown",
   "id": "686cb777",
   "metadata": {},
   "source": [
    "# Best practices in the training sets generation stage"
   ]
  },
  {
   "cell_type": "markdown",
   "id": "bc299e09",
   "metadata": {},
   "source": [
    "## Best practice 8 – Deciding whether to select features, and if so, how to do so "
   ]
  },
  {
   "cell_type": "code",
   "execution_count": 17,
   "id": "48111665",
   "metadata": {},
   "outputs": [
    {
     "name": "stdout",
     "output_type": "stream",
     "text": [
      "(1797, 64)\n"
     ]
    }
   ],
   "source": [
    "from sklearn.datasets import load_digits\n",
    "dataset = load_digits()\n",
    "X, y = dataset.data, dataset.target\n",
    "print(X.shape)"
   ]
  },
  {
   "cell_type": "code",
   "execution_count": 18,
   "id": "678b837a",
   "metadata": {},
   "outputs": [
    {
     "name": "stdout",
     "output_type": "stream",
     "text": [
      "Score with the original data set: 0.90\n"
     ]
    }
   ],
   "source": [
    "# Estimate accuracy on the original data set\n",
    "from sklearn.svm import SVC\n",
    "classifier = SVC(gamma=0.005, random_state=42)\n",
    "score = cross_val_score(classifier, X, y).mean()\n",
    "print(f'Score with the original data set: {score:.2f}')"
   ]
  },
  {
   "cell_type": "code",
   "execution_count": 19,
   "id": "9f661ac9",
   "metadata": {},
   "outputs": [],
   "source": [
    "# Feature selection with random forest\n",
    "from sklearn.ensemble import RandomForestClassifier\n",
    "random_forest = RandomForestClassifier(n_estimators=100, criterion='gini', n_jobs=-1, random_state=42)\n",
    "random_forest.fit(X, y)\n",
    "\n",
    "# Sort features based on their importancies\n",
    "feature_sorted = np.argsort(random_forest.feature_importances_)"
   ]
  },
  {
   "cell_type": "code",
   "execution_count": 20,
   "id": "e66014c9",
   "metadata": {},
   "outputs": [
    {
     "name": "stdout",
     "output_type": "stream",
     "text": [
      "Score with the dataset of top 10 features: 0.86\n",
      "Score with the dataset of top 15 features: 0.92\n",
      "Score with the dataset of top 25 features: 0.95\n",
      "Score with the dataset of top 35 features: 0.93\n",
      "Score with the dataset of top 45 features: 0.90\n"
     ]
    }
   ],
   "source": [
    "# Select different number of top features\n",
    "K = [10, 15, 25, 35, 45]\n",
    "for k in K:\n",
    "    top_K_features = feature_sorted[-k:]\n",
    "    X_k_selected = X[:, top_K_features]\n",
    "    # Estimate accuracy on the data set with k selected features\n",
    "    classifier = SVC(gamma=0.005)\n",
    "    score_k_features = cross_val_score(classifier, X_k_selected, y).mean()\n",
    "    print(f'Score with the dataset of top {k} features: {score_k_features:.2f}')"
   ]
  },
  {
   "cell_type": "markdown",
   "id": "a18d334e",
   "metadata": {},
   "source": [
    "## Best practice 9 – Deciding whether to reduce dimensionality, and if so, how to do so! "
   ]
  },
  {
   "cell_type": "code",
   "execution_count": 21,
   "id": "64d8edac",
   "metadata": {},
   "outputs": [
    {
     "name": "stdout",
     "output_type": "stream",
     "text": [
      "Score with the dataset of top 10 components: 0.94\n",
      "Score with the dataset of top 15 components: 0.95\n",
      "Score with the dataset of top 25 components: 0.93\n",
      "Score with the dataset of top 35 components: 0.91\n",
      "Score with the dataset of top 45 components: 0.90\n"
     ]
    }
   ],
   "source": [
    "from sklearn.decomposition import PCA\n",
    "\n",
    "# Keep different number of top components\n",
    "N = [10, 15, 25, 35, 45]\n",
    "for n in N:\n",
    "    pca = PCA(n_components=n)\n",
    "    X_n_kept = pca.fit_transform(X)\n",
    "    # Estimate accuracy on the data set with top n components\n",
    "    classifier = SVC(gamma=0.005)\n",
    "    score_n_components = cross_val_score(classifier, X_n_kept, y).mean()\n",
    "    print(f'Score with the dataset of top {n} components: {score_n_components:.2f}')"
   ]
  },
  {
   "cell_type": "markdown",
   "id": "4e48d84b",
   "metadata": {},
   "source": [
    "## Best practice 12 – Performing feature engineering without domain expertise "
   ]
  },
  {
   "cell_type": "markdown",
   "id": "9845f839",
   "metadata": {},
   "source": [
    "### Binarization and discretization "
   ]
  },
  {
   "cell_type": "code",
   "execution_count": 22,
   "id": "f4acb497",
   "metadata": {},
   "outputs": [
    {
     "name": "stdout",
     "output_type": "stream",
     "text": [
      "[[1]\n",
      " [0]\n",
      " [1]\n",
      " [0]]\n"
     ]
    }
   ],
   "source": [
    "from sklearn.preprocessing import Binarizer\n",
    "X = [[4], [1], [3], [0]]\n",
    "binarizer = Binarizer(threshold=2.9)\n",
    "X_new = binarizer.fit_transform(X)\n",
    "print(X_new)\n"
   ]
  },
  {
   "cell_type": "markdown",
   "id": "8ceb40af-701e-458d-920a-6bf5ef9e019a",
   "metadata": {},
   "source": [
    "### Polynomial transformation"
   ]
  },
  {
   "cell_type": "code",
   "execution_count": 23,
   "id": "ccf01418-82fa-47bc-93c9-9f3e148e49fc",
   "metadata": {
    "tags": []
   },
   "outputs": [
    {
     "name": "stdout",
     "output_type": "stream",
     "text": [
      "[[ 1.  2.  4.  4.  8. 16.]\n",
      " [ 1.  1.  3.  1.  3.  9.]\n",
      " [ 1.  3.  2.  9.  6.  4.]\n",
      " [ 1.  0.  3.  0.  0.  9.]]\n"
     ]
    }
   ],
   "source": [
    "from sklearn.preprocessing import PolynomialFeatures\n",
    "X = [[2, 4],\n",
    "     [1, 3],\n",
    "     [3, 2],\n",
    "     [0, 3]]\n",
    "poly = PolynomialFeatures(degree=2)\n",
    "X_new = poly.fit_transform(X)\n",
    "print(X_new)"
   ]
  },
  {
   "cell_type": "markdown",
   "id": "3f514c1e",
   "metadata": {},
   "source": [
    "---"
   ]
  },
  {
   "cell_type": "markdown",
   "id": "6b8e4ad8",
   "metadata": {},
   "source": [
    "Readers may ignore the next cell."
   ]
  },
  {
   "cell_type": "code",
   "execution_count": 24,
   "id": "afc49552",
   "metadata": {
    "tags": []
   },
   "outputs": [
    {
     "name": "stdout",
     "output_type": "stream",
     "text": [
      "[NbConvertApp] Converting notebook ch10_part1.ipynb to python\n",
      "[NbConvertApp] Writing 5077 bytes to ch10_part1.py\n"
     ]
    }
   ],
   "source": [
    "!jupyter nbconvert --to python ch10_part1.ipynb --TemplateExporter.exclude_input_prompt=True"
   ]
  }
 ],
 "metadata": {
  "kernelspec": {
   "display_name": "Python 3 (ipykernel)",
   "language": "python",
   "name": "python3"
  },
  "language_info": {
   "codemirror_mode": {
    "name": "ipython",
    "version": 3
   },
   "file_extension": ".py",
   "mimetype": "text/x-python",
   "name": "python",
   "nbconvert_exporter": "python",
   "pygments_lexer": "ipython3",
   "version": "3.11.5"
  }
 },
 "nbformat": 4,
 "nbformat_minor": 5
}
