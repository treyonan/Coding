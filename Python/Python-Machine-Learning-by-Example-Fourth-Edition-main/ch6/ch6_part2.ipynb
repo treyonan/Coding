{
 "cells": [
  {
   "cell_type": "markdown",
   "id": "7035177c",
   "metadata": {},
   "source": [
    "\n",
    "Source codes for Python Machine Learning By Example 4th Edition (Packt Publishing)\n",
    "\n",
    "Chapter 6 Predicting Stock Prices with Artificial Neural Networks\n",
    "\n",
    "Author: Yuxi (Hayden) Liu (yuxi.liu.ece@gmail.com)\n"
   ]
  },
  {
   "cell_type": "markdown",
   "id": "4d7f5ec9",
   "metadata": {},
   "source": [
    "# Predicting stock prices with neural networks "
   ]
  },
  {
   "cell_type": "markdown",
   "id": "a29ef0d9",
   "metadata": {},
   "source": [
    "## Training a simple neural network "
   ]
  },
  {
   "cell_type": "code",
   "execution_count": 1,
   "id": "73f3c2f9",
   "metadata": {},
   "outputs": [],
   "source": [
    "import pandas as pd\n",
    "import numpy as np\n",
    "from sklearn.preprocessing import StandardScaler\n",
    "import torch\n",
    "import torch.nn as nn"
   ]
  },
  {
   "cell_type": "code",
   "execution_count": 2,
   "id": "43a407a1",
   "metadata": {},
   "outputs": [],
   "source": [
    "# Reusing the feature generation function we developed\n",
    "def generate_features(df):\n",
    "    \"\"\"\n",
    "    Generate features for a stock/index based on historical price and performance\n",
    "    @param df: dataframe with columns \"Open\", \"Close\", \"High\", \"Low\", \"Volume\", \"Adj Close\"\n",
    "    @return: dataframe, data set with new features\n",
    "    \"\"\"\n",
    "    df_new = pd.DataFrame()\n",
    "    # 6 original features\n",
    "    df_new['open'] = df['Open']\n",
    "    df_new['open_1'] = df['Open'].shift(1)\n",
    "    df_new['close_1'] = df['Close'].shift(1)\n",
    "    df_new['high_1'] = df['High'].shift(1)\n",
    "    df_new['low_1'] = df['Low'].shift(1)\n",
    "    df_new['volume_1'] = df['Volume'].shift(1)\n",
    "    # 31 generated features\n",
    "    # average price\n",
    "    df_new['avg_price_5'] = df['Close'].rolling(5).mean().shift(1)\n",
    "    df_new['avg_price_30'] = df['Close'].rolling(21).mean().shift(1)\n",
    "    df_new['avg_price_365'] = df['Close'].rolling(252).mean().shift(1)\n",
    "    df_new['ratio_avg_price_5_30'] = df_new['avg_price_5'] / df_new['avg_price_30']\n",
    "    df_new['ratio_avg_price_5_365'] = df_new['avg_price_5'] / df_new['avg_price_365']\n",
    "    df_new['ratio_avg_price_30_365'] = df_new['avg_price_30'] / df_new['avg_price_365']\n",
    "    # average volume\n",
    "    df_new['avg_volume_5'] = df['Volume'].rolling(5).mean().shift(1)\n",
    "    df_new['avg_volume_30'] = df['Volume'].rolling(21).mean().shift(1)\n",
    "    df_new['avg_volume_365'] = df['Volume'].rolling(252).mean().shift(1)\n",
    "    df_new['ratio_avg_volume_5_30'] = df_new['avg_volume_5'] / df_new['avg_volume_30']\n",
    "    df_new['ratio_avg_volume_5_365'] = df_new['avg_volume_5'] / df_new['avg_volume_365']\n",
    "    df_new['ratio_avg_volume_30_365'] = df_new['avg_volume_30'] / df_new['avg_volume_365']\n",
    "    # standard deviation of prices\n",
    "    df_new['std_price_5'] = df['Close'].rolling(5).std().shift(1)\n",
    "    df_new['std_price_30'] = df['Close'].rolling(21).std().shift(1)\n",
    "    df_new['std_price_365'] = df['Close'].rolling(252).std().shift(1)\n",
    "    df_new['ratio_std_price_5_30'] = df_new['std_price_5'] / df_new['std_price_30']\n",
    "    df_new['ratio_std_price_5_365'] = df_new['std_price_5'] / df_new['std_price_365']\n",
    "    df_new['ratio_std_price_30_365'] = df_new['std_price_30'] / df_new['std_price_365']\n",
    "    # standard deviation of volumes\n",
    "    df_new['std_volume_5'] = df['Volume'].rolling(5).std().shift(1)\n",
    "    df_new['std_volume_30'] = df['Volume'].rolling(21).std().shift(1)\n",
    "    df_new['std_volume_365'] = df['Volume'].rolling(252).std().shift(1)\n",
    "    df_new['ratio_std_volume_5_30'] = df_new['std_volume_5'] / df_new['std_volume_30']\n",
    "    df_new['ratio_std_volume_5_365'] = df_new['std_volume_5'] / df_new['std_volume_365']\n",
    "    df_new['ratio_std_volume_30_365'] = df_new['std_volume_30'] / df_new['std_volume_365']\n",
    "    # # return\n",
    "    df_new['return_1'] = ((df['Close'] - df['Close'].shift(1)) / df['Close'].shift(1)).shift(1)\n",
    "    df_new['return_5'] = ((df['Close'] - df['Close'].shift(5)) / df['Close'].shift(5)).shift(1)\n",
    "    df_new['return_30'] = ((df['Close'] - df['Close'].shift(21)) / df['Close'].shift(21)).shift(1)\n",
    "    df_new['return_365'] = ((df['Close'] - df['Close'].shift(252)) / df['Close'].shift(252)).shift(1)\n",
    "    df_new['moving_avg_5'] = df_new['return_1'].rolling(5).mean().shift(1)\n",
    "    df_new['moving_avg_30'] = df_new['return_1'].rolling(21).mean().shift(1)\n",
    "    df_new['moving_avg_365'] = df_new['return_1'].rolling(252).mean().shift(1)\n",
    "    # the target\n",
    "    df_new['close'] = df['Close']\n",
    "    df_new = df_new.dropna(axis=0)\n",
    "    return df_new\n"
   ]
  },
  {
   "cell_type": "code",
   "execution_count": 3,
   "id": "82d016f0",
   "metadata": {},
   "outputs": [],
   "source": [
    "data_raw = pd.read_csv('19900101_20230630.csv', index_col='Date')\n",
    "data = generate_features(data_raw)\n",
    "\n",
    "start_train = '1990-01-01'\n",
    "end_train = '2022-12-31'\n",
    "\n",
    "start_test = '2023-01-01'\n",
    "end_test = '2023-06-30'\n",
    "\n",
    "data_train = data.loc[start_train:end_train]\n",
    "X_train = data_train.drop('close', axis=1).values\n",
    "y_train = data_train['close'].values\n",
    "\n",
    "data_test = data.loc[start_test:end_test]\n",
    "X_test = data_test.drop('close', axis=1).values\n",
    "y_test = data_test['close'].values"
   ]
  },
  {
   "cell_type": "code",
   "execution_count": 4,
   "id": "d862a988",
   "metadata": {},
   "outputs": [],
   "source": [
    "scaler = StandardScaler()\n",
    "X_scaled_train = scaler.fit_transform(X_train)\n",
    "X_scaled_test = scaler.transform(X_test)"
   ]
  },
  {
   "cell_type": "code",
   "execution_count": 5,
   "id": "9198433f",
   "metadata": {},
   "outputs": [],
   "source": [
    "X_train_torch = torch.from_numpy(X_scaled_train.astype(np.float32))\n",
    "X_test_torch = torch.from_numpy(X_scaled_test.astype(np.float32))\n",
    "y_train = y_train.reshape(y_train.shape[0], 1)\n",
    "y_train_torch = torch.from_numpy(y_train.astype(np.float32))"
   ]
  },
  {
   "cell_type": "code",
   "execution_count": 6,
   "id": "8e5e9e45",
   "metadata": {},
   "outputs": [],
   "source": [
    "torch.manual_seed(42)\n",
    "model = nn.Sequential(nn.Linear(X_train.shape[1], 32),\n",
    "                      nn.ReLU(),\n",
    "                      nn.Linear(32, 1))"
   ]
  },
  {
   "cell_type": "code",
   "execution_count": 7,
   "id": "7286a2b5",
   "metadata": {},
   "outputs": [],
   "source": [
    "loss_function = nn.MSELoss()\n",
    "optimizer = torch.optim.Adam(model.parameters(), lr=0.3)"
   ]
  },
  {
   "cell_type": "code",
   "execution_count": 8,
   "id": "541efc0a",
   "metadata": {},
   "outputs": [],
   "source": [
    "def train_step(model, X_train, y_train, loss_function, optimizer):\n",
    "    pred_train = model(X_train)\n",
    "    loss = loss_function(pred_train, y_train)\n",
    " \n",
    "    model.zero_grad()\n",
    "    loss.backward()\n",
    "\n",
    "    optimizer.step()\n",
    "    \n",
    "    return loss.item()"
   ]
  },
  {
   "cell_type": "code",
   "execution_count": 9,
   "id": "a772b7a8",
   "metadata": {},
   "outputs": [
    {
     "name": "stdout",
     "output_type": "stream",
     "text": [
      "Epoch 0 - loss: 24823446.0\n",
      "Epoch 100 - loss: 189974.171875\n",
      "Epoch 200 - loss: 52102.01171875\n",
      "Epoch 300 - loss: 17849.333984375\n",
      "Epoch 400 - loss: 8928.6689453125\n",
      "Epoch 500 - loss: 6497.75927734375\n",
      "Epoch 600 - loss: 5670.634765625\n",
      "Epoch 700 - loss: 5265.48828125\n",
      "Epoch 800 - loss: 5017.7021484375\n",
      "Epoch 900 - loss: 4834.28466796875\n"
     ]
    }
   ],
   "source": [
    "for epoch in range(1000):\n",
    "    loss = train_step(model, X_train_torch, y_train_torch, loss_function, optimizer)\n",
    "    \n",
    "    if epoch % 100 == 0:\n",
    "        print(f\"Epoch {epoch} - loss: {loss}\")\n",
    "        "
   ]
  },
  {
   "cell_type": "code",
   "execution_count": 10,
   "id": "1a96ddd7",
   "metadata": {},
   "outputs": [
    {
     "name": "stdout",
     "output_type": "stream",
     "text": [
      "MSE: 30051.643\n",
      "MAE: 137.096\n",
      "R^2: 0.954\n"
     ]
    }
   ],
   "source": [
    "predictions = model(X_test_torch).detach().numpy()[:, 0]\n",
    "\n",
    "from sklearn.metrics import mean_squared_error, mean_absolute_error, r2_score\n",
    "print(f'MSE: {mean_squared_error(y_test, predictions):.3f}')\n",
    "print(f'MAE: {mean_absolute_error(y_test, predictions):.3f}')\n",
    "print(f'R^2: {r2_score(y_test, predictions):.3f}')\n"
   ]
  },
  {
   "cell_type": "markdown",
   "id": "8050db2a",
   "metadata": {},
   "source": [
    "## Fine-tuning the neural network "
   ]
  },
  {
   "cell_type": "code",
   "execution_count": 11,
   "id": "99a1d82b",
   "metadata": {},
   "outputs": [],
   "source": [
    "from torch.utils.tensorboard import SummaryWriter"
   ]
  },
  {
   "cell_type": "code",
   "execution_count": 12,
   "id": "68bbc3be",
   "metadata": {},
   "outputs": [],
   "source": [
    "hparams_config = {\n",
    "    \"hidden_size\": [16, 32],\n",
    "    \"epochs\": [1000, 3000],\n",
    "    \"lr\": [0.1, 0.3],\n",
    "}"
   ]
  },
  {
   "cell_type": "code",
   "execution_count": 13,
   "id": "24149d20",
   "metadata": {},
   "outputs": [],
   "source": [
    "def train_validate_model(hidden_size, epochs, lr):\n",
    "    model = nn.Sequential(nn.Linear(X_train.shape[1], hidden_size),\n",
    "                                  nn.ReLU(),\n",
    "                                  nn.Linear(hidden_size, 1))\n",
    "    optimizer = torch.optim.Adam(model.parameters(), lr=lr)\n",
    "\n",
    "    # Create the TensorBoard writer\n",
    "    writer_path = f\"runs/{experiment_num}/{hidden_size}/{epochs}/{lr}\"\n",
    "    writer = SummaryWriter(log_dir=writer_path)\n",
    "\n",
    "    for epoch in range(epochs):\n",
    "        loss = train_step(model, X_train_torch, y_train_torch, loss_function, optimizer)\n",
    "\n",
    "        predictions = model(X_test_torch).detach().numpy()[:, 0]\n",
    "        test_mse = mean_squared_error(y_test, predictions)\n",
    "\n",
    "        writer.add_scalar(\n",
    "            tag=\"train loss\",\n",
    "            scalar_value=loss,\n",
    "            global_step=epoch,\n",
    "        )\n",
    "        writer.add_scalar(\n",
    "            tag=\"test loss\",\n",
    "            scalar_value=test_mse,\n",
    "            global_step=epoch,\n",
    "        )\n",
    "\n",
    "    test_r2 = r2_score(y_test, predictions)\n",
    "    print(f'R^2: {test_r2:.3f}\\n')\n",
    "\n",
    "    # Add the hyperparameters and metrics to TensorBoard\n",
    "    writer.add_hparams(\n",
    "        {\n",
    "            \"hidden_size\": hidden_size,\n",
    "            \"epochs\": epochs,\n",
    "            \"lr\": lr,\n",
    "        },\n",
    "        {\n",
    "            \"test MSE\": test_mse,\n",
    "            \"test R^2\": test_r2,\n",
    "        },\n",
    "    )"
   ]
  },
  {
   "cell_type": "code",
   "execution_count": 14,
   "id": "ab82256e",
   "metadata": {},
   "outputs": [
    {
     "name": "stdout",
     "output_type": "stream",
     "text": [
      "Experiment 1: hidden_size = 16, epochs = 1000, lr = 0.1\n",
      "R^2: 0.771\n",
      "\n",
      "Experiment 2: hidden_size = 16, epochs = 1000, lr = 0.3\n",
      "R^2: 0.952\n",
      "\n",
      "Experiment 3: hidden_size = 16, epochs = 3000, lr = 0.1\n",
      "R^2: 0.969\n",
      "\n",
      "Experiment 4: hidden_size = 16, epochs = 3000, lr = 0.3\n",
      "R^2: 0.977\n",
      "\n",
      "Experiment 5: hidden_size = 32, epochs = 1000, lr = 0.1\n",
      "R^2: 0.877\n",
      "\n",
      "Experiment 6: hidden_size = 32, epochs = 1000, lr = 0.3\n",
      "R^2: 0.957\n",
      "\n",
      "Experiment 7: hidden_size = 32, epochs = 3000, lr = 0.1\n",
      "R^2: 0.970\n",
      "\n",
      "Experiment 8: hidden_size = 32, epochs = 3000, lr = 0.3\n",
      "R^2: 0.959\n",
      "\n"
     ]
    }
   ],
   "source": [
    "experiment_num = 0\n",
    "\n",
    "torch.manual_seed(42)\n",
    "for hidden_size in hparams_config[\"hidden_size\"]:\n",
    "    for epochs in hparams_config[\"epochs\"]:\n",
    "        for lr in hparams_config[\"lr\"]:\n",
    "            experiment_num += 1\n",
    "            print(f\"Experiment {experiment_num}: hidden_size = {hidden_size}, epochs = {epochs}, lr = {lr}\")\n",
    "            train_validate_model(hidden_size, epochs, lr)\n",
    "            "
   ]
  },
  {
   "cell_type": "code",
   "execution_count": 15,
   "id": "838ced10",
   "metadata": {},
   "outputs": [],
   "source": [
    "hidden_size = 16\n",
    "epochs = 3000\n",
    "lr = 0.3\n",
    "best_model = nn.Sequential(nn.Linear(X_train.shape[1], hidden_size),\n",
    "                           nn.ReLU(),\n",
    "                           nn.Linear(hidden_size, 1))\n",
    "optimizer = torch.optim.Adam(best_model.parameters(), lr=lr)\n",
    "for epoch in range(epochs):\n",
    "    train_step(best_model, X_train_torch, y_train_torch, loss_function, optimizer)\n",
    "\n",
    "predictions = best_model(X_test_torch).detach().numpy()[:, 0] "
   ]
  },
  {
   "cell_type": "code",
   "execution_count": 16,
   "id": "428353d1",
   "metadata": {},
   "outputs": [
    {
     "data": {
      "image/png": "[encoded data removed]",
      "text/plain": [
       "<Figure size 640x480 with 1 Axes>"
      ]
     },
     "metadata": {},
     "output_type": "display_data"
    }
   ],
   "source": [
    "import matplotlib.pyplot as plt\n",
    "plt.rc('xtick', labelsize=10)\n",
    "plt.rc('ytick', labelsize=10)\n",
    "plt.plot(data_test.index, y_test, c='k')\n",
    "plt.plot(data_test.index, predictions, c='b')\n",
    "plt.xticks(range(0, 130, 10), rotation=60)\n",
    "plt.xlabel('Date', fontsize=10)\n",
    "plt.ylabel('Close price', fontsize=10)\n",
    "plt.legend(['Truth', 'Neural network'], fontsize=10)\n",
    "plt.show()"
   ]
  },
  {
   "cell_type": "markdown",
   "id": "b1728ade",
   "metadata": {},
   "source": [
    "---"
   ]
  },
  {
   "cell_type": "markdown",
   "id": "e4c31fc7",
   "metadata": {},
   "source": [
    "Readers may ignore the next cell."
   ]
  },
  {
   "cell_type": "code",
   "execution_count": 17,
   "id": "72a47777",
   "metadata": {},
   "outputs": [
    {
     "name": "stderr",
     "output_type": "stream",
     "text": [
      "[NbConvertApp] Converting notebook ch6_part2.ipynb to python\n",
      "[NbConvertApp] Writing 8550 bytes to ch6_part2.py\n"
     ]
    }
   ],
   "source": [
    "!jupyter nbconvert --to python ch6_part2.ipynb --TemplateExporter.exclude_input_prompt=True"
   ]
  }
 ],
 "metadata": {
  "kernelspec": {
   "display_name": "Python 3 (ipykernel)",
   "language": "python",
   "name": "python3"
  },
  "language_info": {
   "codemirror_mode": {
    "name": "ipython",
    "version": 3
   },
   "file_extension": ".py",
   "mimetype": "text/x-python",
   "name": "python",
   "nbconvert_exporter": "python",
   "pygments_lexer": "ipython3",
   "version": "3.9.16"
  }
 },
 "nbformat": 4,
 "nbformat_minor": 5
}
