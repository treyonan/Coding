{
 "cells": [
  {
   "cell_type": "markdown",
   "id": "f74e5097",
   "metadata": {},
   "source": [
    "Source codes for Python Machine Learning By Example 4th Edition (Packt Publishing)\n",
    "\n",
    "Chapter 15 Making Decisions in Complex Environments with Reinforcement Learning\n",
    "\n",
    "Author: Yuxi (Hayden) Liu (yuxi.liu.ece@gmail.com)"
   ]
  },
  {
   "cell_type": "markdown",
   "id": "7c216be7",
   "metadata": {},
   "source": [
    "# Performing Monte Carlo learning"
   ]
  },
  {
   "cell_type": "markdown",
   "id": "f260d5d5",
   "metadata": {},
   "source": [
    "## Simulating the Blackjack environment"
   ]
  },
  {
   "cell_type": "code",
   "execution_count": 1,
   "id": "cbcb2cf8",
   "metadata": {},
   "outputs": [
    {
     "data": {
      "text/plain": [
       "((11, 10, 0), {})"
      ]
     },
     "execution_count": 1,
     "metadata": {},
     "output_type": "execute_result"
    }
   ],
   "source": [
    "import gymnasium as gym\n",
    "\n",
    "env = gym.make('Blackjack-v1')\n",
    "\n",
    "env.reset(seed=0)\n"
   ]
  },
  {
   "cell_type": "code",
   "execution_count": 2,
   "id": "f1ca4377",
   "metadata": {},
   "outputs": [
    {
     "data": {
      "text/plain": [
       "((12, 10, 0), 0.0, False, False, {})"
      ]
     },
     "execution_count": 2,
     "metadata": {},
     "output_type": "execute_result"
    }
   ],
   "source": [
    "env.step(1)\n"
   ]
  },
  {
   "cell_type": "code",
   "execution_count": 3,
   "id": "9a17fb48",
   "metadata": {},
   "outputs": [
    {
     "data": {
      "text/plain": [
       "((13, 10, 0), 0.0, False, False, {})"
      ]
     },
     "execution_count": 3,
     "metadata": {},
     "output_type": "execute_result"
    }
   ],
   "source": [
    "env.step(1)\n"
   ]
  },
  {
   "cell_type": "code",
   "execution_count": 4,
   "id": "0b79a6e4",
   "metadata": {},
   "outputs": [
    {
     "data": {
      "text/plain": [
       "((13, 10, 0), -1.0, True, False, {})"
      ]
     },
     "execution_count": 4,
     "metadata": {},
     "output_type": "execute_result"
    }
   ],
   "source": [
    "env.step(0)"
   ]
  },
  {
   "cell_type": "markdown",
   "id": "7d6ef40b",
   "metadata": {},
   "source": [
    "## Performing Monte Carlo policy evaluation"
   ]
  },
  {
   "cell_type": "code",
   "execution_count": 5,
   "id": "5b629318",
   "metadata": {},
   "outputs": [],
   "source": [
    "def run_episode(env, hold_score):\n",
    "    state, _ = env.reset()\n",
    "    rewards = []\n",
    "    states = [state]\n",
    "    while True:\n",
    "        action = 1 if state[0] < hold_score else 0\n",
    "        state, reward, terminated, truncated, info = env.step(action)\n",
    "        is_done = terminated or truncated\n",
    "        states.append(state)\n",
    "        rewards.append(reward)\n",
    "        if is_done:\n",
    "            break\n",
    "    return states, rewards\n"
   ]
  },
  {
   "cell_type": "code",
   "execution_count": 6,
   "id": "5317ccfc",
   "metadata": {},
   "outputs": [],
   "source": [
    "from collections import defaultdict\n",
    "\n",
    "def mc_prediction_first_visit(env, hold_score, gamma, n_episode):\n",
    "    V = defaultdict(float)\n",
    "    N = defaultdict(int)\n",
    "    for episode in range(n_episode):\n",
    "        states_t, rewards_t = run_episode(env, hold_score)\n",
    "        return_t = 0\n",
    "        G = {}\n",
    "        for state_t, reward_t in zip(states_t[1::-1], rewards_t[::-1]):\n",
    "            return_t = gamma * return_t + reward_t\n",
    "            G[state_t] = return_t\n",
    "        for state, return_t in G.items():\n",
    "            if state[0] <= 21:\n",
    "                V[state] += return_t\n",
    "                N[state] += 1\n",
    "    for state in V:\n",
    "        V[state] = V[state] / N[state]\n",
    "    return V\n"
   ]
  },
  {
   "cell_type": "code",
   "execution_count": 7,
   "id": "49cb389b",
   "metadata": {},
   "outputs": [
    {
     "name": "stdout",
     "output_type": "stream",
     "text": [
      "defaultdict(<class 'float'>, {(19, 3, 0): 0.41360718870346597, (21, 10, 0): 0.885656836461126, (17, 10, 0): -0.3887961417176776, (18, 10, 1): -0.255662319835278, (17, 10, 1): -0.2840192806822395, (14, 10, 0): -0.29505716207128446, (13, 10, 0): -0.2743235693191795, (14, 2, 0): -0.15767230169050714, (13, 2, 0): -0.14885245901639343, (19, 9, 0): 0.2962264150943396, (19, 10, 0): -0.016647081864473168, (12, 10, 0): -0.24741546832491254, (21, 10, 1): 0.9164161849710982, (17, 9, 0): -0.28319882611885544, (9, 9, 0): -0.06857523302263649, (15, 5, 0): -0.13894663894663895, (11, 5, 0): 0.2210193955796121, (13, 9, 0): -0.1656071201525747, (7, 9, 0): -0.36635706914344685, (20, 5, 0): 0.6822101002991378, (16, 9, 0): -0.2875864579541318, (10, 9, 0): 0.09758713136729223, (19, 4, 0): 0.42080378250591016, (15, 10, 0): -0.3165645216207014, (19, 1, 0): -0.10504311471126208, (5, 10, 0): -0.38997214484679665, (21, 9, 1): 0.9908872901678657, (20, 10, 0): 0.43320559664914, (16, 10, 0): -0.3259860788863109, (20, 9, 0): 0.7584609903811899, (21, 8, 1): 0.9915333960489181, (18, 5, 0): 0.20534629404617255, (16, 5, 0): -0.155049786628734, (10, 4, 0): 0.0839267548321465, (7, 4, 0): -0.2528263103802672, (18, 4, 0): 0.19313091090094575, (19, 7, 0): 0.6311239193083573, (7, 10, 0): -0.4252517428350116, (20, 1, 0): 0.14446460980036296, (15, 10, 1): -0.1927710843373494, (13, 10, 1): -0.18638902996444895, (14, 10, 1): -0.20432127759511506, (16, 10, 1): -0.23983739837398374, (15, 9, 0): -0.2405807120636018, (21, 8, 0): 0.9326075686884396, (11, 8, 0): 0.2441860465116279, (18, 8, 0): 0.100514832066683, (19, 4, 1): 0.41863699582753827, (18, 3, 0): 0.16347075743048897, (18, 1, 0): -0.37924201139459995, (13, 1, 0): -0.41304347826086957, (19, 6, 0): 0.48569238630556977, (16, 6, 0): -0.20992761116856257, (17, 1, 0): -0.48651603498542273, (7, 1, 0): -0.48923076923076925, (21, 7, 0): 0.9290629962943356, (17, 7, 0): -0.19600725952813067, (18, 10, 0): -0.2401996151996152, (20, 7, 0): 0.7666309012875536, (17, 2, 0): -0.2543502406516105, (17, 2, 1): -0.1882716049382716, (12, 5, 0): -0.08240049751243782, (21, 1, 1): 0.6797510770703686, (16, 4, 0): -0.218848167539267, (12, 4, 0): -0.11557632398753893, (12, 8, 0): -0.04241139048773099, (18, 1, 1): -0.4314002828854314, (14, 9, 0): -0.1859776168531929, (12, 9, 0): -0.16677037958929683, (18, 9, 1): -0.11988304093567251, (10, 10, 0): -0.07600918050492778, (20, 6, 0): 0.7025793998947184, (10, 8, 0): 0.15930599369085174, (7, 8, 0): -0.2705761316872428, (13, 3, 0): -0.13773222293401666, (20, 3, 0): 0.6549219033781329, (11, 3, 0): 0.14880144730890998, (19, 5, 0): 0.43842616249361266, (19, 3, 1): 0.4157458563535912, (19, 8, 1): 0.5894039735099338, (13, 8, 1): 0.07610993657505286, (16, 8, 0): -0.14613180515759314, (20, 8, 0): 0.8116308470290771, (8, 4, 0): -0.10726351351351351, (21, 1, 0): 0.635593220338983, (14, 1, 0): -0.3956908344733242, (9, 4, 0): 0.0, (21, 6, 1): 0.98928238583411, (16, 6, 1): -0.01658374792703151, (21, 6, 0): 0.906129210381005, (20, 10, 1): 0.43735982057033, (21, 9, 0): 0.939612188365651, (11, 9, 0): 0.14582392776523703, (15, 8, 0): -0.1706648389307745, (11, 1, 0): -0.10972798524665744, (21, 4, 0): 0.8823210412147505, (13, 4, 0): -0.07841239109390126, (12, 10, 1): -0.16268980477223427, (14, 3, 0): -0.1502454991816694, (12, 3, 0): -0.10393939393939394, (19, 8, 0): 0.5975642043950226, (9, 8, 0): 0.031289910600255426, (18, 9, 0): -0.17156626506024097, (14, 6, 0): -0.10145911096029861, (10, 3, 0): 0.12758264462809918, (17, 8, 0): -0.2224231464737794, (15, 3, 0): -0.16065911431513905, (11, 4, 0): 0.1627579737335835, (18, 6, 0): 0.2847187655550025, (15, 6, 0): -0.15011547344110854, (11, 10, 0): 0.035290006988120196, (14, 4, 0): -0.15197368421052632, (6, 10, 0): -0.393515106853353, (6, 4, 0): -0.3119015047879617, (9, 7, 0): 0.0849714648065948, (5, 7, 0): -0.2043956043956044, (18, 5, 1): 0.15447154471544716, (17, 5, 0): -0.21242190371187064, (16, 7, 0): -0.14446870451237265, (12, 7, 0): 0.020662412640534793, (11, 6, 0): 0.20620358235037134, (6, 6, 0): -0.2112482853223594, (10, 2, 0): 0.09510567296996662, (20, 1, 1): 0.12516129032258064, (12, 1, 1): -0.22943722943722944, (20, 2, 0): 0.6428441864683475, (16, 3, 0): -0.20175131348511383, (6, 3, 0): -0.2661179698216735, (18, 2, 0): 0.10998552821997105, (20, 3, 1): 0.6400523560209425, (8, 10, 0): -0.3132821962050868, (9, 10, 0): -0.23990384615384616, (14, 5, 0): -0.12113055181695828, (6, 5, 0): -0.2818991097922849, (14, 7, 0): -0.07117087569694983, (18, 7, 0): 0.41875151809570077, (8, 7, 0): 0.014598540145985401, (13, 7, 0): -0.045062320230105465, (4, 7, 0): -0.07246376811594203, (17, 3, 0): -0.23853894893775623, (8, 9, 0): -0.18555900621118013, (20, 5, 1): 0.665, (17, 5, 1): -0.18604651162790697, (20, 4, 0): 0.6555227188769855, (4, 2, 0): -0.2087378640776699, (16, 5, 1): -0.09967320261437909, (20, 6, 1): 0.7169811320754716, (21, 5, 0): 0.8963121325494388, (8, 6, 0): -0.044081632653061226, (16, 1, 1): -0.4175491679273828, (14, 8, 0): -0.10285902070325337, (19, 10, 1): -0.017851012701682115, (5, 9, 0): -0.3304904051172708, (13, 5, 0): -0.08801313628899836, (12, 6, 0): -0.07354287458040891, (21, 7, 1): 0.993234100135318, (14, 8, 1): -0.09664694280078895, (14, 1, 1): -0.3193612774451098, (18, 2, 1): 0.11126961483594865, (11, 7, 0): 0.24877614597240766, (15, 1, 0): -0.4097731239092496, (10, 1, 0): -0.2305491990846682, (13, 6, 0): -0.08109813821394762, (16, 1, 0): -0.4541759053954176, (16, 2, 0): -0.25245441795231416, (12, 2, 0): -0.11843361986628462, (17, 4, 0): -0.2569706103993971, (20, 8, 1): 0.79750346740638, (9, 2, 0): -0.045454545454545456, (7, 3, 0): -0.31170212765957445, (21, 5, 1): 0.9859971028488653, (15, 7, 0): -0.11469290804207669, (9, 5, 0): 0.03154362416107383, (15, 4, 1): -0.11071428571428571, (17, 9, 1): -0.2388888888888889, (9, 1, 0): -0.3355393778954335, (20, 9, 1): 0.7333333333333333, (17, 6, 0): -0.2415162454873646, (15, 2, 0): -0.16236033519553073, (21, 3, 1): 0.9797785267212326, (13, 5, 1): -0.024553571428571428, (5, 2, 0): -0.23399558498896247, (8, 8, 0): -0.10638297872340426, (5, 1, 0): -0.4647577092511013, (8, 5, 0): -0.06472491909385113, (14, 5, 1): 0.010482180293501049, (18, 3, 1): 0.15587846763540292, (10, 7, 0): 0.25, (15, 4, 0): -0.15389948006932408, (14, 6, 1): 0.0536480686695279, (13, 8, 0): -0.08366935483870967, (15, 8, 1): -0.03650793650793651, (16, 9, 1): -0.1918032786885246, (15, 6, 1): -0.03327495621716287, (10, 5, 0): 0.15565264882577826, (14, 4, 1): 0.03690685413005272, (19, 2, 0): 0.39819485001327315, (10, 6, 0): 0.14810751508502468, (21, 3, 0): 0.88602372356885, (14, 9, 1): 0.007905138339920948, (12, 1, 0): -0.3820829376384932, (9, 3, 0): 0.007462686567164179, (8, 1, 0): -0.43028846153846156, (19, 9, 1): 0.29582806573957016, (16, 2, 1): -0.17569786535303777, (19, 2, 1): 0.41383812010443866, (13, 2, 1): -0.004629629629629629, (5, 6, 0): -0.2345132743362832, (18, 7, 1): 0.42876344086021506, (17, 8, 1): -0.07792207792207792, (21, 4, 1): 0.9870609981515711, (17, 4, 1): -0.18209408194233687, (4, 10, 0): -0.39184952978056425, (17, 3, 1): -0.1485623003194888, (11, 2, 0): 0.16227860220201054, (14, 2, 1): 0.01616161616161616, (19, 6, 1): 0.5254691689008043, (13, 3, 1): -0.02510460251046025, (7, 6, 0): -0.24008350730688935, (4, 4, 0): -0.17889908256880735, (7, 5, 0): -0.2710779082177161, (13, 6, 1): 0.08171206225680934, (18, 4, 1): 0.16442048517520216, (19, 7, 1): 0.6288798920377868, (8, 3, 0): -0.18442622950819673, (13, 7, 1): 0.13646055437100213, (6, 1, 0): -0.47832369942196534, (8, 2, 0): -0.09104938271604938, (18, 8, 1): 0.12449255751014884, (16, 8, 1): -0.07894736842105263, (17, 1, 1): -0.4252400548696845, (20, 7, 1): 0.7629009762900977, (21, 2, 1): 0.9853881278538813, (15, 3, 1): -0.04488330341113106, (16, 3, 1): -0.14218009478672985, (5, 4, 0): -0.18550106609808104, (15, 1, 1): -0.39679715302491103, (12, 8, 1): 0.06827309236947791, (6, 2, 0): -0.32262996941896027, (16, 4, 1): -0.1597444089456869, (16, 7, 1): -0.04180602006688963, (19, 5, 1): 0.4884353741496599, (13, 4, 1): -0.026422764227642278, (20, 2, 1): 0.6269230769230769, (6, 8, 0): -0.18777292576419213, (6, 9, 0): -0.3159340659340659, (6, 7, 0): -0.17058823529411765, (13, 9, 1): -0.019955654101995565, (21, 2, 0): 0.8732394366197183, (19, 1, 1): -0.13962765957446807, (20, 4, 1): 0.65748031496063, (12, 4, 1): 0.04017857142857143, (4, 8, 0): -0.08835341365461848, (4, 6, 0): -0.10330578512396695, (9, 6, 0): 0.061815840309079204, (15, 9, 1): -0.07251908396946564, (7, 7, 0): -0.20776495278069254, (15, 7, 1): 0.008488964346349746, (18, 6, 1): 0.2779291553133515, (12, 6, 1): 0.05, (4, 1, 0): -0.31275720164609055, (13, 1, 1): -0.2862903225806452, (7, 2, 0): -0.281615302869288, (17, 6, 1): -0.12441679626749612, (12, 5, 1): 0.11158798283261803, (17, 7, 1): -0.13149847094801223, (12, 9, 1): 0.13537117903930132, (12, 7, 1): 0.14522821576763487, (14, 3, 1): -0.09090909090909091, (5, 8, 0): -0.26077097505668934, (4, 5, 0): -0.22272727272727272, (12, 3, 1): 0.017316017316017316, (14, 7, 1): 0.0019880715705765406, (12, 2, 1): 0.07981220657276995, (5, 5, 0): -0.25877192982456143, (4, 9, 0): -0.24497991967871485, (15, 5, 1): -0.011363636363636364, (15, 2, 1): -0.08379888268156424, (5, 3, 0): -0.19078947368421054, (4, 3, 0): -0.2987012987012987})\n",
      "Number of states: 280\n"
     ]
    }
   ],
   "source": [
    "gamma = 1\n",
    "hold_score = 18\n",
    "n_episode = 500000\n",
    "\n",
    "value = mc_prediction_first_visit(env, hold_score, gamma, n_episode)\n",
    "\n",
    "print(value)\n",
    "\n",
    "print('Number of states:', len(value))"
   ]
  },
  {
   "cell_type": "markdown",
   "id": "5a313020",
   "metadata": {},
   "source": [
    "## Performing on-policy Monte Carlo control"
   ]
  },
  {
   "cell_type": "code",
   "execution_count": 8,
   "id": "1ef6e17f",
   "metadata": {},
   "outputs": [],
   "source": [
    "import torch\n",
    "\n",
    "def run_episode(env, Q, n_action):\n",
    "    state, _ = env.reset()\n",
    "    rewards = []\n",
    "    actions = []\n",
    "    states = []\n",
    "    action = torch.randint(0, n_action, [1]).item()\n",
    "    while True:\n",
    "        actions.append(action)\n",
    "        states.append(state)\n",
    "        state, reward, terminated, truncated, info = env.step(action)\n",
    "        is_done = terminated or truncated\n",
    "        rewards.append(reward)\n",
    "        if is_done:\n",
    "            break\n",
    "        action = torch.argmax(Q[state]).item()\n",
    "    return states, actions, rewards\n"
   ]
  },
  {
   "cell_type": "code",
   "execution_count": 9,
   "id": "fc32684c",
   "metadata": {},
   "outputs": [],
   "source": [
    "def mc_control_on_policy(env, gamma, n_episode):\n",
    "    n_action = env.action_space.n\n",
    "    G_sum = defaultdict(float)\n",
    "    N = defaultdict(int)\n",
    "    Q = defaultdict(lambda: torch.empty(n_action))\n",
    "    for episode in range(n_episode):\n",
    "        states_t, actions_t, rewards_t = run_episode(env, Q, n_action)\n",
    "        return_t = 0\n",
    "        G = {}\n",
    "        for state_t, action_t, reward_t in zip(states_t[::-1], actions_t[::-1], rewards_t[::-1]):\n",
    "            return_t = gamma * return_t + reward_t\n",
    "            G[(state_t, action_t)] = return_t\n",
    "        for state_action, return_t in G.items():\n",
    "            state, action = state_action\n",
    "            if state[0] <= 21:\n",
    "                G_sum[state_action] += return_t\n",
    "                N[state_action] += 1\n",
    "                Q[state][action] = G_sum[state_action] / N[state_action]\n",
    "    policy = {}\n",
    "    for state, actions in Q.items():\n",
    "        policy[state] = torch.argmax(actions).item()\n",
    "    return Q, policy\n"
   ]
  },
  {
   "cell_type": "code",
   "execution_count": 10,
   "id": "cc27993f",
   "metadata": {},
   "outputs": [
    {
     "name": "stdout",
     "output_type": "stream",
     "text": [
      "{(20, 1, 0): 0, (20, 8, 0): 0, (20, 6, 1): 0, (15, 9, 0): 1, (15, 8, 0): 1, (10, 8, 0): 1, (19, 9, 0): 0, (19, 7, 0): 0, (16, 7, 0): 1, (14, 10, 0): 1, (17, 10, 1): 1, (19, 1, 0): 0, (16, 1, 0): 1, (6, 1, 0): 1, (12, 10, 1): 1, (13, 10, 0): 1, (18, 1, 0): 0, (18, 1, 1): 0, (19, 8, 0): 0, (16, 6, 0): 0, (14, 6, 0): 0, (20, 3, 0): 0, (20, 9, 0): 0, (12, 9, 0): 1, (20, 10, 0): 0, (20, 2, 0): 0, (18, 5, 0): 0, (20, 2, 1): 0, (9, 7, 0): 1, (13, 6, 0): 0, (15, 10, 0): 1, (10, 10, 0): 1, (17, 9, 0): 0, (18, 10, 0): 0, (13, 9, 0): 1, (12, 3, 0): 1, (15, 4, 0): 0, (16, 7, 1): 1, (15, 3, 0): 0, (9, 3, 0): 1, (14, 6, 1): 1, (17, 3, 0): 0, (7, 3, 0): 1, (17, 8, 1): 1, (20, 7, 0): 0, (16, 10, 0): 1, (12, 10, 0): 1, (14, 5, 0): 0, (13, 2, 0): 0, (13, 9, 1): 1, (19, 4, 0): 0, (21, 4, 1): 0, (12, 4, 0): 0, (21, 9, 1): 0, (6, 6, 0): 1, (16, 10, 1): 1, (7, 1, 0): 1, (12, 8, 0): 1, (16, 8, 0): 1, (21, 9, 0): 0, (14, 9, 0): 1, (17, 10, 0): 0, (21, 6, 1): 0, (18, 3, 0): 0, (19, 3, 1): 0, (19, 2, 0): 0, (17, 9, 1): 1, (13, 8, 0): 1, (7, 8, 0): 1, (12, 1, 0): 1, (11, 1, 0): 1, (14, 2, 0): 0, (15, 2, 1): 1, (12, 2, 1): 1, (14, 3, 0): 0, (19, 10, 0): 0, (15, 5, 0): 0, (12, 3, 1): 1, (18, 2, 1): 1, (10, 2, 0): 1, (11, 10, 0): 1, (17, 6, 0): 0, (15, 6, 0): 0, (21, 2, 0): 0, (15, 2, 0): 0, (18, 9, 0): 0, (7, 6, 0): 1, (18, 2, 0): 0, (21, 8, 0): 0, (16, 2, 0): 0, (17, 8, 0): 0, (14, 1, 0): 1, (14, 1, 1): 1, (21, 1, 0): 0, (11, 9, 0): 1, (9, 9, 0): 1, (17, 5, 0): 0, (17, 5, 1): 1, (7, 10, 0): 1, (4, 10, 0): 1, (17, 7, 0): 0, (6, 4, 0): 1, (8, 10, 0): 1, (9, 6, 0): 1, (16, 4, 0): 0, (15, 7, 0): 1, (14, 8, 0): 1, (12, 2, 0): 1, (13, 5, 0): 0, (9, 10, 0): 1, (20, 6, 0): 0, (10, 6, 0): 1, (10, 9, 0): 1, (19, 1, 1): 0, (18, 10, 1): 1, (11, 2, 0): 1, (7, 2, 0): 1, (5, 9, 0): 1, (15, 1, 0): 1, (16, 5, 0): 0, (21, 5, 1): 0, (13, 4, 0): 0, (19, 3, 0): 0, (19, 6, 0): 0, (18, 6, 0): 0, (8, 4, 0): 1, (21, 10, 1): 0, (13, 3, 0): 0, (19, 10, 1): 0, (18, 3, 1): 0, (10, 1, 0): 1, (18, 4, 0): 0, (13, 1, 0): 1, (18, 8, 0): 0, (14, 4, 0): 0, (17, 3, 1): 1, (11, 4, 0): 1, (12, 5, 0): 0, (20, 4, 0): 0, (21, 7, 1): 0, (20, 5, 0): 0, (19, 5, 0): 0, (9, 1, 0): 1, (5, 1, 0): 1, (21, 10, 0): 0, (13, 4, 1): 1, (15, 10, 1): 1, (21, 1, 1): 0, (5, 8, 0): 1, (21, 6, 0): 0, (20, 10, 1): 0, (6, 5, 0): 1, (13, 7, 0): 1, (21, 5, 0): 0, (7, 5, 0): 1, (17, 4, 0): 0, (4, 2, 0): 1, (13, 3, 1): 1, (21, 7, 0): 0, (14, 7, 0): 1, (16, 3, 0): 0, (10, 3, 0): 1, (11, 8, 0): 1, (19, 9, 1): 0, (17, 1, 0): 0, (8, 6, 0): 1, (19, 8, 1): 0, (18, 6, 1): 0, (17, 2, 0): 0, (9, 8, 0): 1, (6, 8, 0): 1, (11, 7, 0): 1, (11, 3, 0): 1, (19, 6, 1): 0, (6, 3, 0): 1, (16, 9, 1): 1, (14, 5, 1): 1, (9, 2, 0): 1, (5, 7, 0): 1, (8, 9, 0): 1, (12, 6, 0): 0, (7, 7, 0): 1, (21, 2, 1): 0, (10, 4, 0): 1, (21, 3, 0): 0, (13, 10, 1): 1, (16, 1, 1): 1, (17, 6, 1): 1, (13, 5, 1): 1, (21, 8, 1): 0, (18, 7, 0): 0, (9, 5, 0): 1, (14, 10, 1): 1, (20, 9, 1): 0, (18, 5, 1): 1, (14, 7, 1): 1, (16, 9, 0): 1, (20, 4, 1): 0, (6, 9, 0): 1, (8, 2, 0): 1, (18, 9, 1): 1, (10, 5, 0): 1, (8, 5, 0): 1, (20, 1, 1): 0, (20, 5, 1): 0, (15, 7, 1): 1, (15, 3, 1): 1, (9, 4, 0): 1, (12, 5, 1): 1, (8, 3, 0): 1, (18, 7, 1): 0, (10, 7, 0): 1, (19, 5, 1): 0, (7, 4, 0): 1, (7, 9, 0): 1, (6, 7, 0): 1, (11, 6, 0): 1, (16, 6, 1): 1, (21, 4, 0): 0, (11, 5, 0): 1, (21, 3, 1): 0, (12, 4, 1): 1, (4, 4, 0): 1, (19, 4, 1): 0, (5, 4, 0): 1, (12, 7, 0): 1, (6, 10, 0): 1, (17, 4, 1): 1, (8, 7, 0): 1, (17, 2, 1): 1, (14, 2, 1): 1, (19, 2, 1): 0, (18, 4, 1): 0, (16, 4, 1): 1, (13, 1, 1): 1, (4, 9, 0): 1, (15, 6, 1): 1, (5, 5, 0): 1, (18, 8, 1): 0, (12, 9, 1): 1, (4, 5, 0): 1, (17, 1, 1): 1, (15, 8, 1): 1, (15, 1, 1): 1, (20, 7, 1): 0, (20, 3, 1): 0, (5, 10, 0): 1, (15, 9, 1): 1, (5, 3, 0): 1, (16, 5, 1): 1, (8, 1, 0): 1, (13, 7, 1): 1, (16, 8, 1): 1, (14, 8, 1): 1, (13, 6, 1): 1, (15, 4, 1): 1, (8, 8, 0): 1, (19, 7, 1): 0, (20, 8, 1): 0, (16, 3, 1): 1, (4, 6, 0): 1, (17, 7, 1): 1, (4, 7, 0): 1, (15, 5, 1): 1, (6, 2, 0): 1, (4, 1, 0): 1, (5, 2, 0): 1, (5, 6, 0): 1, (12, 6, 1): 1, (12, 1, 1): 1, (4, 8, 0): 1, (14, 9, 1): 1, (13, 8, 1): 1, (14, 3, 1): 1, (14, 4, 1): 1, (13, 2, 1): 1, (16, 2, 1): 1, (12, 7, 1): 1, (4, 3, 0): 0, (12, 8, 1): 1}\n"
     ]
    }
   ],
   "source": [
    "gamma = 1\n",
    "n_episode = 500000\n",
    "\n",
    "optimal_Q, optimal_policy = mc_control_on_policy(env, gamma, n_episode)\n",
    "\n",
    "print(optimal_policy)"
   ]
  },
  {
   "cell_type": "code",
   "execution_count": 11,
   "id": "d74e40fa",
   "metadata": {},
   "outputs": [],
   "source": [
    "def simulate_hold_episode(env, hold_score):\n",
    "    state, _ = env.reset()\n",
    "    while True:\n",
    "        action = 1 if state[0] < hold_score else 0\n",
    "        state, reward, terminated, truncated, info = env.step(action)\n",
    "        is_done = terminated or truncated\n",
    "        if is_done:\n",
    "            return reward\n",
    "        "
   ]
  },
  {
   "cell_type": "code",
   "execution_count": 12,
   "id": "2b97ebe0",
   "metadata": {},
   "outputs": [],
   "source": [
    "def simulate_episode(env, policy):\n",
    "    state, _ = env.reset()\n",
    "    while True:\n",
    "        action = policy[state]\n",
    "        state, reward, terminated, truncated, info = env.step(action)\n",
    "        is_done = terminated or truncated\n",
    "        if is_done:\n",
    "            return reward\n",
    "        "
   ]
  },
  {
   "cell_type": "code",
   "execution_count": 13,
   "id": "f34d45cf",
   "metadata": {},
   "outputs": [],
   "source": [
    "n_episode = 100000\n",
    "hold_score = 18\n",
    "n_win_opt = 0\n",
    "n_win_hold = 0\n",
    "\n",
    "for _ in range(n_episode):\n",
    "    reward = simulate_hold_episode(env, hold_score)\n",
    "    if reward == 1:\n",
    "        n_win_hold += 1\n",
    "    reward = simulate_episode(env, optimal_policy)\n",
    "    if reward == 1:\n",
    "        n_win_opt += 1\n"
   ]
  },
  {
   "cell_type": "code",
   "execution_count": 14,
   "id": "affdd126",
   "metadata": {},
   "outputs": [
    {
     "name": "stdout",
     "output_type": "stream",
     "text": [
      "Winning probability under the simple policy: 0.401\n",
      "Winning probability under the optimal policy: 0.43187\n"
     ]
    }
   ],
   "source": [
    "print(f'Winning probability under the simple policy: {n_win_hold/n_episode}')\n",
    "print(f'Winning probability under the optimal policy: {n_win_opt/n_episode}')"
   ]
  },
  {
   "cell_type": "markdown",
   "id": "d08d057d",
   "metadata": {},
   "source": [
    "# Solving the Blackjack problem with the Q-learning algorithm"
   ]
  },
  {
   "cell_type": "markdown",
   "id": "10eaaaea",
   "metadata": {},
   "source": [
    "## Developing the Q-learning algorithm"
   ]
  },
  {
   "cell_type": "code",
   "execution_count": 15,
   "id": "ea66b950",
   "metadata": {},
   "outputs": [],
   "source": [
    "def epsilon_greedy_policy(n_action, epsilon, state, Q):\n",
    "    probs = torch.ones(n_action) * epsilon / n_action\n",
    "    best_action = torch.argmax(Q[state]).item()\n",
    "    probs[best_action] += 1.0 - epsilon\n",
    "    action = torch.multinomial(probs, 1).item()\n",
    "    return action\n"
   ]
  },
  {
   "cell_type": "code",
   "execution_count": 16,
   "id": "f4d43259",
   "metadata": {},
   "outputs": [],
   "source": [
    "def q_learning(env, gamma, n_episode, alpha, epsilon, final_epsilon):\n",
    "    n_action = env.action_space.n\n",
    "    Q = defaultdict(lambda: torch.zeros(n_action))\n",
    "    epsilon_decay = epsilon / (n_episode / 2)  \n",
    "    for episode in range(n_episode):\n",
    "        state, _ = env.reset()\n",
    "        is_done = False\n",
    "        epsilon = max(final_epsilon, epsilon - epsilon_decay)\n",
    "\n",
    "        while not is_done:\n",
    "            action = epsilon_greedy_policy(n_action, epsilon, state, Q)\n",
    "            next_state, reward, terminated, truncated, info = env.step(action)\n",
    "            is_done = terminated or truncated\n",
    "            delta = reward + gamma * torch.max(Q[next_state]) - Q[state][action]\n",
    "            Q[state][action] += alpha * delta\n",
    "            total_reward_episode[episode] += reward\n",
    "            if is_done:\n",
    "                break\n",
    "            state = next_state\n",
    "    policy = {}\n",
    "    for state, actions in Q.items():\n",
    "        policy[state] = torch.argmax(actions).item()\n",
    "    return Q, policy\n"
   ]
  },
  {
   "cell_type": "code",
   "execution_count": 17,
   "id": "33a8a060",
   "metadata": {},
   "outputs": [],
   "source": [
    "n_episode = 10000\n",
    "epsilon = 1.0\n",
    "final_epsilon = 0.1\n",
    "\n",
    "gamma = 1\n",
    "alpha = 0.003\n",
    "\n",
    "total_reward_episode = [0] * n_episode\n",
    "\n",
    "optimal_Q, optimal_policy = q_learning(env, gamma, n_episode, alpha, epsilon, final_epsilon)\n"
   ]
  },
  {
   "cell_type": "code",
   "execution_count": 18,
   "id": "c3edd86c",
   "metadata": {},
   "outputs": [],
   "source": [
    "rolling_avg_reward = [total_reward_episode[0]]\n",
    "for i, reward in enumerate(total_reward_episode[1:], 1):\n",
    "    rolling_avg_reward.append((rolling_avg_reward[-1]*i + reward)/(i+1))"
   ]
  },
  {
   "cell_type": "code",
   "execution_count": 19,
   "id": "d68d26fc",
   "metadata": {},
   "outputs": [
    {
     "data": {
      "image/png": "[encoded data removed]",
      "text/plain": [
       "<Figure size 640x480 with 1 Axes>"
      ]
     },
     "metadata": {},
     "output_type": "display_data"
    }
   ],
   "source": [
    "import matplotlib.pyplot as plt\n",
    "plt.plot(rolling_avg_reward)\n",
    "plt.title('Average reward over time')\n",
    "plt.xlabel('Episode')\n",
    "plt.ylabel('Average reward')\n",
    "plt.ylim([-1, 1])\n",
    "plt.show()"
   ]
  },
  {
   "cell_type": "code",
   "execution_count": 20,
   "id": "feb05eb2",
   "metadata": {},
   "outputs": [],
   "source": [
    "n_episode = 100000\n",
    "n_win_opt = 0\n",
    "\n",
    "for _ in range(n_episode):\n",
    "    reward = simulate_episode(env, optimal_policy)\n",
    "    if reward == 1:\n",
    "        n_win_opt += 1"
   ]
  },
  {
   "cell_type": "code",
   "execution_count": 21,
   "id": "c550e721",
   "metadata": {},
   "outputs": [
    {
     "name": "stdout",
     "output_type": "stream",
     "text": [
      "Winning probability under the optimal policy: 0.42398\n"
     ]
    }
   ],
   "source": [
    "print(f'Winning probability under the optimal policy: {n_win_opt/n_episode}')"
   ]
  },
  {
   "cell_type": "markdown",
   "id": "2cb880de",
   "metadata": {},
   "source": [
    "---"
   ]
  },
  {
   "cell_type": "markdown",
   "id": "f02caa7c",
   "metadata": {},
   "source": [
    "Readers may ignore the next cell."
   ]
  },
  {
   "cell_type": "code",
   "execution_count": 22,
   "id": "d0db2408",
   "metadata": {},
   "outputs": [
    {
     "name": "stdout",
     "output_type": "stream",
     "text": [
      "[NbConvertApp] Converting notebook ch15_part2.ipynb to python\n",
      "[NbConvertApp] Writing 6715 bytes to ch15_part2.py\n"
     ]
    }
   ],
   "source": [
    "!jupyter nbconvert --to python ch15_part2.ipynb --TemplateExporter.exclude_input_prompt=True"
   ]
  }
 ],
 "metadata": {
  "kernelspec": {
   "display_name": "Python 3 (ipykernel)",
   "language": "python",
   "name": "python3"
  },
  "language_info": {
   "codemirror_mode": {
    "name": "ipython",
    "version": 3
   },
   "file_extension": ".py",
   "mimetype": "text/x-python",
   "name": "python",
   "nbconvert_exporter": "python",
   "pygments_lexer": "ipython3",
   "version": "3.11.5"
  }
 },
 "nbformat": 4,
 "nbformat_minor": 5
}
